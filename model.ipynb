{
 "cells": [
  {
   "cell_type": "code",
   "execution_count": 1,
   "metadata": {},
   "outputs": [],
   "source": [
    "import torch\n",
    "import torch.nn as nn\n",
    "from torchsummary import summary"
   ]
  },
  {
   "cell_type": "code",
   "execution_count": 2,
   "metadata": {},
   "outputs": [],
   "source": [
    "DEVICE = torch.device(\"cuda\" if torch.cuda.is_available() else \"cpu\")\n",
    "TIMESTEPS = 1500\n",
    "LEAD_COUNT = 12\n",
    "\n",
    "EPOCHS=25\n",
    "BATCH_SIZE=32\n",
    "LEARNING_RATE=1e-5"
   ]
  },
  {
   "cell_type": "code",
   "execution_count": 3,
   "metadata": {},
   "outputs": [],
   "source": [
    "dataset = torch.load(\"vars/dataset2.pt\")\n",
    "\n",
    "split_size = list()\n",
    "split_size.append(int(0.64*len(dataset)))\n",
    "split_size.append(int(0.16*len(dataset)))\n",
    "split_size.append(len(dataset)-sum(split_size))\n",
    "\n",
    "datasets = torch.utils.data.random_split(dataset, split_size)"
   ]
  },
  {
   "cell_type": "code",
   "execution_count": 4,
   "metadata": {},
   "outputs": [],
   "source": [
    "dataloaders = [torch.utils.data.DataLoader(i, batch_size=b, shuffle=True) for i, b in zip(datasets, [BATCH_SIZE, ]+split_size[1:])]"
   ]
  },
  {
   "cell_type": "code",
   "execution_count": 12,
   "metadata": {},
   "outputs": [],
   "source": [
    "class ECGNN(nn.Module):\n",
    "    def __init__(self):\n",
    "        super(ECGNN, self).__init__()\n",
    "        self.conv_block = nn.Sequential(\n",
    "            nn.Conv2d(1, 16, (3, 100), padding=1),\n",
    "            nn.Conv2d(16, 16, (3, 100), padding=1),\n",
    "            nn.MaxPool2d(2),\n",
    "            nn.Conv2d(16, 32, (3, 100), padding=1),\n",
    "            nn.Conv2d(32, 32, (3, 100), padding=1),\n",
    "            nn.MaxPool2d(2),\n",
    "            nn.Conv2d(32, 32, (3, 100))\n",
    "        )\n",
    "        self.lin_block = nn.Sequential(\n",
    "            nn.Linear(4160, 1024),\n",
    "            nn.ReLU(),\n",
    "            nn.Linear(1024, 512),\n",
    "            nn.ReLU(),\n",
    "            nn.Linear(512, 1)\n",
    "        )\n",
    "    \n",
    "    def forward(self, x):\n",
    "        x = self.conv_block(x)\n",
    "        x = torch.flatten(x, 1)\n",
    "        x = self.lin_block(x)\n",
    "        x = torch.sigmoid(x)\n",
    "        return x"
   ]
  },
  {
   "cell_type": "code",
   "execution_count": 6,
   "metadata": {},
   "outputs": [],
   "source": [
    "def train(model, loss, maeloss, mseloss, optimizer, data):\n",
    "    global ypred\n",
    "    global x\n",
    "    nbat = len(data)\n",
    "    aloss, aacc, amloss, amsloss = 0, 0, 0, 0\n",
    "    for batch, (x, y) in enumerate(data):\n",
    "        x = x.to(device = DEVICE, dtype=torch.float)\n",
    "        y = y.to(device = DEVICE, dtype=torch.float)\n",
    "        ypred = model(x)\n",
    "        bloss = loss(ypred ,y)\n",
    "        \n",
    "        optimizer.zero_grad()\n",
    "        bloss.backward()\n",
    "        optimizer.step()\n",
    "\n",
    "        with torch.no_grad():\n",
    "            acc = ((ypred.squeeze()>=0.50).int()==y).sum().item()/BATCH_SIZE\n",
    "\n",
    "            bloss = loss(ypred, y)\n",
    "            mloss = maeloss(ypred, y).item()\n",
    "            msloss = mseloss(ypred, y).item()\n",
    "            amloss += mloss\n",
    "            amsloss += msloss\n",
    "            aloss += bloss.item()\n",
    "            aacc += acc\n",
    "\n",
    "\n",
    "        print(\"Train - crossentropy_loss: %f  mae_loss:%f  mse_loss: %f  accuracy: %f  [%d/%d]\"%(bloss.item(), mloss, msloss, acc, batch+1, nbat), end=\"\\r\")\n",
    "    aloss /= nbat\n",
    "    aacc /= nbat\n",
    "    amloss /= nbat\n",
    "    amsloss /= nbat\n",
    "    print(\"\\nTrain - crossentropy_loss: %f  mae_loss: %f  mse_loss: %f  accuracy: %f  [Average]\"%(aloss, amloss, amsloss, aacc))\n",
    "    return (aloss, amloss, amsloss, aacc)"
   ]
  },
  {
   "cell_type": "code",
   "execution_count": 7,
   "metadata": {},
   "outputs": [],
   "source": [
    "def test(model, loss, maeloss, mseloss, data):\n",
    "    nbat = len(data)\n",
    "    acc, bloss, mloss, msloss = 0, 0, 0, 0\n",
    "\n",
    "    with torch.no_grad():\n",
    "        for x, y in data:\n",
    "            x = x.to(device=DEVICE, dtype=torch.float)\n",
    "            y = y.to(device=DEVICE, dtype=torch.float)\n",
    "            ypred = model(x)\n",
    "            bloss += loss(ypred ,y)\n",
    "            mloss += maeloss(ypred ,y).item()\n",
    "            msloss += mseloss(ypred, y).item()\n",
    "            acc += ((ypred.squeeze()>=0.50).int()==y).sum().item()/BATCH_SIZE\n",
    "    \n",
    "    acc /= nbat\n",
    "    bloss /= nbat\n",
    "    mloss /= nbat\n",
    "    msloss /= nbat\n",
    "    print(\"Test - crossentropy_loss: %f  mae_loss: %f  mse_loss: %f  accuracy: %f\"%(bloss.item(), mloss, msloss, acc))\n",
    "    return (bloss.item(), mloss, r2, msloss, acc)"
   ]
  },
  {
   "cell_type": "code",
   "execution_count": 8,
   "metadata": {},
   "outputs": [],
   "source": [
    "def fit(model, loss, mloss, msloss, optimizer, train_loader, test_loader, epochs):\n",
    "    train_history = {\n",
    "        \"epochs\": list(range(1, epochs+1)),\n",
    "        \"crossentropy_loss\": list(),\n",
    "        \"mae_loss\": list(),\n",
    "        \"mse_loss\": list(),\n",
    "        \"accuracy\": list()\n",
    "    }\n",
    "    test_history = {\n",
    "        \"epochs\": list(range(1, epochs+1)),\n",
    "        \"crossentropy_loss\": list(),\n",
    "        \"mae_loss\": list(),\n",
    "        \"mse_loss\": list(),\n",
    "        \"accuracy\": list()\n",
    "    }\n",
    "    for e in range(epochs):\n",
    "        print(\"EPOCH %d/%d\"%(e+1, epochs))\n",
    "\n",
    "        l, m, ms, acc = train(model, loss, mloss, msloss, optimizer, train_loader)\n",
    "        train_history[\"crossentropy_loss\"].append(l)\n",
    "        train_history[\"mae_loss\"].append(m)\n",
    "        train_history[\"mse_loss\"].append(ms)\n",
    "        train_history[\"accuracy\"].append(acc)\n",
    "\n",
    "        l, m, ms, acc = test(model, loss, mloss, msloss, test_loader)\n",
    "        test_history[\"crossentropy_loss\"].append(l)\n",
    "        test_history[\"mae_loss\"].append(m)\n",
    "        test_history[\"mse_loss\"].append(ms)\n",
    "        test_history[\"accuracy\"].append(acc)\n",
    "\n",
    "        print(\"\\n--------------------\\n\")\n",
    "    return {\n",
    "        \"train\": train_history,\n",
    "        \"test\": test_history\n",
    "    }"
   ]
  },
  {
   "cell_type": "code",
   "execution_count": 13,
   "metadata": {},
   "outputs": [
    {
     "name": "stdout",
     "output_type": "stream",
     "text": [
      "----------------------------------------------------------------\n",
      "        Layer (type)               Output Shape         Param #\n",
      "================================================================\n",
      "            Conv2d-1         [-1, 16, 12, 1403]           4,816\n",
      "            Conv2d-2         [-1, 16, 12, 1306]          76,816\n",
      "         MaxPool2d-3           [-1, 16, 6, 653]               0\n",
      "            Conv2d-4           [-1, 32, 6, 556]         153,632\n",
      "            Conv2d-5           [-1, 32, 6, 459]         307,232\n",
      "         MaxPool2d-6           [-1, 32, 3, 229]               0\n",
      "            Conv2d-7           [-1, 32, 1, 130]         307,232\n",
      "           Flatten-8                 [-1, 4160]               0\n",
      "            Linear-9                 [-1, 1024]       4,260,864\n",
      "             ReLU-10                 [-1, 1024]               0\n",
      "           Linear-11                  [-1, 512]         524,800\n",
      "             ReLU-12                  [-1, 512]               0\n",
      "           Linear-13                    [-1, 1]             513\n",
      "================================================================\n",
      "Total params: 5,635,905\n",
      "Trainable params: 5,635,905\n",
      "Non-trainable params: 0\n",
      "----------------------------------------------------------------\n",
      "Input size (MB): 0.07\n",
      "Forward/backward pass size (MB): 6.19\n",
      "Params size (MB): 21.50\n",
      "Estimated Total Size (MB): 27.76\n",
      "----------------------------------------------------------------\n"
     ]
    }
   ],
   "source": [
    "model = ECGNN().to(DEVICE)\n",
    "summary(model, (1, 12, 1500))"
   ]
  },
  {
   "cell_type": "code",
   "execution_count": 14,
   "metadata": {},
   "outputs": [],
   "source": [
    "optimizer = torch.optim.Adam(model.parameters(), lr=LEARNING_RATE)\n",
    "loss = nn.BCELoss()\n",
    "mloss = nn.L1Loss(reduction=\"mean\")\n",
    "msloss = nn.MSELoss()"
   ]
  },
  {
   "cell_type": "code",
   "execution_count": 15,
   "metadata": {},
   "outputs": [],
   "source": [
    "import gc\n",
    "\n",
    "gc.collect()\n",
    "\n",
    "torch.cuda.empty_cache()"
   ]
  },
  {
   "cell_type": "code",
   "execution_count": 16,
   "metadata": {},
   "outputs": [
    {
     "name": "stdout",
     "output_type": "stream",
     "text": [
      "EPOCH 1/25\n",
      "Train - crossentropy_loss: 0.094351  mae_loss:0.088484  mse_loss: 0.010624  accuracy: 0.156250  [277/277]]\n",
      "Train - crossentropy_loss: 0.558997  mae_loss: 0.390666  mse_loss: 0.191739  accuracy: 16.175880  [Average]\n"
     ]
    },
    {
     "ename": "RuntimeError",
     "evalue": "CUDA out of memory. Tried to allocate 2.06 GiB (GPU 0; 5.81 GiB total capacity; 2.51 GiB already allocated; 1.55 GiB free; 2.65 GiB reserved in total by PyTorch) If reserved memory is >> allocated memory try setting max_split_size_mb to avoid fragmentation.  See documentation for Memory Management and PYTORCH_CUDA_ALLOC_CONF",
     "output_type": "error",
     "traceback": [
      "\u001b[0;31m---------------------------------------------------------------------------\u001b[0m",
      "\u001b[0;31mRuntimeError\u001b[0m                              Traceback (most recent call last)",
      "Cell \u001b[0;32mIn [16], line 1\u001b[0m\n\u001b[0;32m----> 1\u001b[0m history \u001b[39m=\u001b[39m fit(model, loss, mloss, msloss, optimizer, dataloaders[\u001b[39m0\u001b[39;49m], dataloaders[\u001b[39m1\u001b[39;49m], EPOCHS)\n",
      "Cell \u001b[0;32mIn [8], line 25\u001b[0m, in \u001b[0;36mfit\u001b[0;34m(model, loss, mloss, msloss, optimizer, train_loader, test_loader, epochs)\u001b[0m\n\u001b[1;32m     22\u001b[0m train_history[\u001b[39m\"\u001b[39m\u001b[39mmse_loss\u001b[39m\u001b[39m\"\u001b[39m]\u001b[39m.\u001b[39mappend(ms)\n\u001b[1;32m     23\u001b[0m train_history[\u001b[39m\"\u001b[39m\u001b[39maccuracy\u001b[39m\u001b[39m\"\u001b[39m]\u001b[39m.\u001b[39mappend(acc)\n\u001b[0;32m---> 25\u001b[0m l, m, ms, acc \u001b[39m=\u001b[39m test(model, loss, mloss, msloss, test_loader)\n\u001b[1;32m     26\u001b[0m test_history[\u001b[39m\"\u001b[39m\u001b[39mcrossentropy_loss\u001b[39m\u001b[39m\"\u001b[39m]\u001b[39m.\u001b[39mappend(l)\n\u001b[1;32m     27\u001b[0m test_history[\u001b[39m\"\u001b[39m\u001b[39mmae_loss\u001b[39m\u001b[39m\"\u001b[39m]\u001b[39m.\u001b[39mappend(m)\n",
      "Cell \u001b[0;32mIn [7], line 9\u001b[0m, in \u001b[0;36mtest\u001b[0;34m(model, loss, maeloss, mseloss, data)\u001b[0m\n\u001b[1;32m      7\u001b[0m x \u001b[39m=\u001b[39m x\u001b[39m.\u001b[39mto(device\u001b[39m=\u001b[39mDEVICE, dtype\u001b[39m=\u001b[39mtorch\u001b[39m.\u001b[39mfloat)\n\u001b[1;32m      8\u001b[0m y \u001b[39m=\u001b[39m y\u001b[39m.\u001b[39mto(device\u001b[39m=\u001b[39mDEVICE, dtype\u001b[39m=\u001b[39mtorch\u001b[39m.\u001b[39mfloat)\n\u001b[0;32m----> 9\u001b[0m ypred \u001b[39m=\u001b[39m model(x)\n\u001b[1;32m     10\u001b[0m bloss \u001b[39m+\u001b[39m\u001b[39m=\u001b[39m loss(ypred ,y)\n\u001b[1;32m     11\u001b[0m mloss \u001b[39m+\u001b[39m\u001b[39m=\u001b[39m maeloss(ypred ,y)\u001b[39m.\u001b[39mitem()\n",
      "File \u001b[0;32m/usr/local/lib/python3.8/dist-packages/torch/nn/modules/module.py:1130\u001b[0m, in \u001b[0;36mModule._call_impl\u001b[0;34m(self, *input, **kwargs)\u001b[0m\n\u001b[1;32m   1126\u001b[0m \u001b[39m# If we don't have any hooks, we want to skip the rest of the logic in\u001b[39;00m\n\u001b[1;32m   1127\u001b[0m \u001b[39m# this function, and just call forward.\u001b[39;00m\n\u001b[1;32m   1128\u001b[0m \u001b[39mif\u001b[39;00m \u001b[39mnot\u001b[39;00m (\u001b[39mself\u001b[39m\u001b[39m.\u001b[39m_backward_hooks \u001b[39mor\u001b[39;00m \u001b[39mself\u001b[39m\u001b[39m.\u001b[39m_forward_hooks \u001b[39mor\u001b[39;00m \u001b[39mself\u001b[39m\u001b[39m.\u001b[39m_forward_pre_hooks \u001b[39mor\u001b[39;00m _global_backward_hooks\n\u001b[1;32m   1129\u001b[0m         \u001b[39mor\u001b[39;00m _global_forward_hooks \u001b[39mor\u001b[39;00m _global_forward_pre_hooks):\n\u001b[0;32m-> 1130\u001b[0m     \u001b[39mreturn\u001b[39;00m forward_call(\u001b[39m*\u001b[39;49m\u001b[39minput\u001b[39;49m, \u001b[39m*\u001b[39;49m\u001b[39m*\u001b[39;49mkwargs)\n\u001b[1;32m   1131\u001b[0m \u001b[39m# Do not call functions when jit is used\u001b[39;00m\n\u001b[1;32m   1132\u001b[0m full_backward_hooks, non_full_backward_hooks \u001b[39m=\u001b[39m [], []\n",
      "Cell \u001b[0;32mIn [12], line 23\u001b[0m, in \u001b[0;36mECGNN.forward\u001b[0;34m(self, x)\u001b[0m\n\u001b[1;32m     22\u001b[0m \u001b[39mdef\u001b[39;00m \u001b[39mforward\u001b[39m(\u001b[39mself\u001b[39m, x):\n\u001b[0;32m---> 23\u001b[0m     x \u001b[39m=\u001b[39m \u001b[39mself\u001b[39;49m\u001b[39m.\u001b[39;49mconv_block(x)\n\u001b[1;32m     24\u001b[0m     x \u001b[39m=\u001b[39m torch\u001b[39m.\u001b[39mflatten(x, \u001b[39m1\u001b[39m)\n\u001b[1;32m     25\u001b[0m     x \u001b[39m=\u001b[39m \u001b[39mself\u001b[39m\u001b[39m.\u001b[39mlin_block(x)\n",
      "File \u001b[0;32m/usr/local/lib/python3.8/dist-packages/torch/nn/modules/module.py:1130\u001b[0m, in \u001b[0;36mModule._call_impl\u001b[0;34m(self, *input, **kwargs)\u001b[0m\n\u001b[1;32m   1126\u001b[0m \u001b[39m# If we don't have any hooks, we want to skip the rest of the logic in\u001b[39;00m\n\u001b[1;32m   1127\u001b[0m \u001b[39m# this function, and just call forward.\u001b[39;00m\n\u001b[1;32m   1128\u001b[0m \u001b[39mif\u001b[39;00m \u001b[39mnot\u001b[39;00m (\u001b[39mself\u001b[39m\u001b[39m.\u001b[39m_backward_hooks \u001b[39mor\u001b[39;00m \u001b[39mself\u001b[39m\u001b[39m.\u001b[39m_forward_hooks \u001b[39mor\u001b[39;00m \u001b[39mself\u001b[39m\u001b[39m.\u001b[39m_forward_pre_hooks \u001b[39mor\u001b[39;00m _global_backward_hooks\n\u001b[1;32m   1129\u001b[0m         \u001b[39mor\u001b[39;00m _global_forward_hooks \u001b[39mor\u001b[39;00m _global_forward_pre_hooks):\n\u001b[0;32m-> 1130\u001b[0m     \u001b[39mreturn\u001b[39;00m forward_call(\u001b[39m*\u001b[39;49m\u001b[39minput\u001b[39;49m, \u001b[39m*\u001b[39;49m\u001b[39m*\u001b[39;49mkwargs)\n\u001b[1;32m   1131\u001b[0m \u001b[39m# Do not call functions when jit is used\u001b[39;00m\n\u001b[1;32m   1132\u001b[0m full_backward_hooks, non_full_backward_hooks \u001b[39m=\u001b[39m [], []\n",
      "File \u001b[0;32m/usr/local/lib/python3.8/dist-packages/torch/nn/modules/container.py:139\u001b[0m, in \u001b[0;36mSequential.forward\u001b[0;34m(self, input)\u001b[0m\n\u001b[1;32m    137\u001b[0m \u001b[39mdef\u001b[39;00m \u001b[39mforward\u001b[39m(\u001b[39mself\u001b[39m, \u001b[39minput\u001b[39m):\n\u001b[1;32m    138\u001b[0m     \u001b[39mfor\u001b[39;00m module \u001b[39min\u001b[39;00m \u001b[39mself\u001b[39m:\n\u001b[0;32m--> 139\u001b[0m         \u001b[39minput\u001b[39m \u001b[39m=\u001b[39m module(\u001b[39minput\u001b[39;49m)\n\u001b[1;32m    140\u001b[0m     \u001b[39mreturn\u001b[39;00m \u001b[39minput\u001b[39m\n",
      "File \u001b[0;32m/usr/local/lib/python3.8/dist-packages/torch/nn/modules/module.py:1130\u001b[0m, in \u001b[0;36mModule._call_impl\u001b[0;34m(self, *input, **kwargs)\u001b[0m\n\u001b[1;32m   1126\u001b[0m \u001b[39m# If we don't have any hooks, we want to skip the rest of the logic in\u001b[39;00m\n\u001b[1;32m   1127\u001b[0m \u001b[39m# this function, and just call forward.\u001b[39;00m\n\u001b[1;32m   1128\u001b[0m \u001b[39mif\u001b[39;00m \u001b[39mnot\u001b[39;00m (\u001b[39mself\u001b[39m\u001b[39m.\u001b[39m_backward_hooks \u001b[39mor\u001b[39;00m \u001b[39mself\u001b[39m\u001b[39m.\u001b[39m_forward_hooks \u001b[39mor\u001b[39;00m \u001b[39mself\u001b[39m\u001b[39m.\u001b[39m_forward_pre_hooks \u001b[39mor\u001b[39;00m _global_backward_hooks\n\u001b[1;32m   1129\u001b[0m         \u001b[39mor\u001b[39;00m _global_forward_hooks \u001b[39mor\u001b[39;00m _global_forward_pre_hooks):\n\u001b[0;32m-> 1130\u001b[0m     \u001b[39mreturn\u001b[39;00m forward_call(\u001b[39m*\u001b[39;49m\u001b[39minput\u001b[39;49m, \u001b[39m*\u001b[39;49m\u001b[39m*\u001b[39;49mkwargs)\n\u001b[1;32m   1131\u001b[0m \u001b[39m# Do not call functions when jit is used\u001b[39;00m\n\u001b[1;32m   1132\u001b[0m full_backward_hooks, non_full_backward_hooks \u001b[39m=\u001b[39m [], []\n",
      "File \u001b[0;32m/usr/local/lib/python3.8/dist-packages/torch/nn/modules/conv.py:457\u001b[0m, in \u001b[0;36mConv2d.forward\u001b[0;34m(self, input)\u001b[0m\n\u001b[1;32m    456\u001b[0m \u001b[39mdef\u001b[39;00m \u001b[39mforward\u001b[39m(\u001b[39mself\u001b[39m, \u001b[39minput\u001b[39m: Tensor) \u001b[39m-\u001b[39m\u001b[39m>\u001b[39m Tensor:\n\u001b[0;32m--> 457\u001b[0m     \u001b[39mreturn\u001b[39;00m \u001b[39mself\u001b[39;49m\u001b[39m.\u001b[39;49m_conv_forward(\u001b[39minput\u001b[39;49m, \u001b[39mself\u001b[39;49m\u001b[39m.\u001b[39;49mweight, \u001b[39mself\u001b[39;49m\u001b[39m.\u001b[39;49mbias)\n",
      "File \u001b[0;32m/usr/local/lib/python3.8/dist-packages/torch/nn/modules/conv.py:453\u001b[0m, in \u001b[0;36mConv2d._conv_forward\u001b[0;34m(self, input, weight, bias)\u001b[0m\n\u001b[1;32m    449\u001b[0m \u001b[39mif\u001b[39;00m \u001b[39mself\u001b[39m\u001b[39m.\u001b[39mpadding_mode \u001b[39m!=\u001b[39m \u001b[39m'\u001b[39m\u001b[39mzeros\u001b[39m\u001b[39m'\u001b[39m:\n\u001b[1;32m    450\u001b[0m     \u001b[39mreturn\u001b[39;00m F\u001b[39m.\u001b[39mconv2d(F\u001b[39m.\u001b[39mpad(\u001b[39minput\u001b[39m, \u001b[39mself\u001b[39m\u001b[39m.\u001b[39m_reversed_padding_repeated_twice, mode\u001b[39m=\u001b[39m\u001b[39mself\u001b[39m\u001b[39m.\u001b[39mpadding_mode),\n\u001b[1;32m    451\u001b[0m                     weight, bias, \u001b[39mself\u001b[39m\u001b[39m.\u001b[39mstride,\n\u001b[1;32m    452\u001b[0m                     _pair(\u001b[39m0\u001b[39m), \u001b[39mself\u001b[39m\u001b[39m.\u001b[39mdilation, \u001b[39mself\u001b[39m\u001b[39m.\u001b[39mgroups)\n\u001b[0;32m--> 453\u001b[0m \u001b[39mreturn\u001b[39;00m F\u001b[39m.\u001b[39;49mconv2d(\u001b[39minput\u001b[39;49m, weight, bias, \u001b[39mself\u001b[39;49m\u001b[39m.\u001b[39;49mstride,\n\u001b[1;32m    454\u001b[0m                 \u001b[39mself\u001b[39;49m\u001b[39m.\u001b[39;49mpadding, \u001b[39mself\u001b[39;49m\u001b[39m.\u001b[39;49mdilation, \u001b[39mself\u001b[39;49m\u001b[39m.\u001b[39;49mgroups)\n",
      "\u001b[0;31mRuntimeError\u001b[0m: CUDA out of memory. Tried to allocate 2.06 GiB (GPU 0; 5.81 GiB total capacity; 2.51 GiB already allocated; 1.55 GiB free; 2.65 GiB reserved in total by PyTorch) If reserved memory is >> allocated memory try setting max_split_size_mb to avoid fragmentation.  See documentation for Memory Management and PYTORCH_CUDA_ALLOC_CONF"
     ]
    }
   ],
   "source": [
    "history = fit(model, loss, mloss, msloss, optimizer, dataloaders[0], dataloaders[1], EPOCHS)"
   ]
  },
  {
   "cell_type": "code",
   "execution_count": null,
   "metadata": {},
   "outputs": [],
   "source": []
  }
 ],
 "metadata": {
  "kernelspec": {
   "display_name": "Python 3.8.10 64-bit",
   "language": "python",
   "name": "python3"
  },
  "language_info": {
   "codemirror_mode": {
    "name": "ipython",
    "version": 3
   },
   "file_extension": ".py",
   "mimetype": "text/x-python",
   "name": "python",
   "nbconvert_exporter": "python",
   "pygments_lexer": "ipython3",
   "version": "3.8.10"
  },
  "orig_nbformat": 4,
  "vscode": {
   "interpreter": {
    "hash": "e7370f93d1d0cde622a1f8e1c04877d8463912d04d973331ad4851f04de6915a"
   }
  }
 },
 "nbformat": 4,
 "nbformat_minor": 2
}
