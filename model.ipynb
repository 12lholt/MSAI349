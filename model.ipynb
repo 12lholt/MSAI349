{
 "cells": [
  {
   "cell_type": "code",
   "execution_count": 1,
   "metadata": {},
   "outputs": [],
   "source": [
    "import torch\n",
    "import torch.nn as nn\n",
    "from torchsummary import summary"
   ]
  },
  {
   "cell_type": "code",
   "execution_count": 2,
   "metadata": {},
   "outputs": [],
   "source": [
    "DEVICE = torch.device(\"cuda\" if torch.cuda.is_available() else \"cpu\")\n",
    "TIMESTEPS = 1500\n",
    "LEAD_COUNT = 12\n",
    "\n",
    "EPOCHS=25\n",
    "BATCH_SIZE=32\n",
    "LEARNING_RATE=1e-5"
   ]
  },
  {
   "cell_type": "code",
   "execution_count": 3,
   "metadata": {},
   "outputs": [],
   "source": [
    "dataset = torch.load(\"vars/dataset3.pt\")\n",
    "\n",
    "split_size = list()\n",
    "split_size.append(int(0.64*len(dataset)))\n",
    "split_size.append(int(0.16*len(dataset)))\n",
    "split_size.append(len(dataset)-sum(split_size))\n",
    "\n",
    "datasets = torch.utils.data.random_split(dataset, split_size)"
   ]
  },
  {
   "cell_type": "code",
   "execution_count": 4,
   "metadata": {},
   "outputs": [],
   "source": [
    "dataloaders = [torch.utils.data.DataLoader(i, batch_size=b, shuffle=True) for i, b in zip(datasets, [BATCH_SIZE]*3)]"
   ]
  },
  {
   "cell_type": "code",
   "execution_count": 5,
   "metadata": {},
   "outputs": [],
   "source": [
    "class ECGNN(nn.Module):\n",
    "    def __init__(self):\n",
    "        super(ECGNN, self).__init__()\n",
    "        self.conv_block = nn.Sequential(\n",
    "            nn.Conv2d(1, 16, (3, 100), padding=1),\n",
    "            nn.Conv2d(16, 16, (3, 100), padding=1),\n",
    "            nn.MaxPool2d(2),\n",
    "            nn.Conv2d(16, 32, (3, 100), padding=1),\n",
    "            nn.Conv2d(32, 32, (3, 100), padding=1),\n",
    "            nn.MaxPool2d(2),\n",
    "            nn.Conv2d(32, 32, (3, 100))\n",
    "        )\n",
    "        self.lin_block = nn.Sequential(\n",
    "            nn.Linear(4160, 1024),\n",
    "            nn.ReLU(),\n",
    "            nn.Linear(1024, 512),\n",
    "            nn.ReLU(),\n",
    "            nn.Linear(512, 1)\n",
    "        )\n",
    "    \n",
    "    def forward(self, x):\n",
    "        x = self.conv_block(x)\n",
    "        x = torch.flatten(x, 1)\n",
    "        x = self.lin_block(x)\n",
    "        x = torch.sigmoid(x)\n",
    "        return x"
   ]
  },
  {
   "cell_type": "code",
   "execution_count": 6,
   "metadata": {},
   "outputs": [],
   "source": [
    "def train(model, loss, maeloss, mseloss, optimizer, data):\n",
    "    global ypred\n",
    "    global x\n",
    "    nbat = len(data)\n",
    "    aloss, aacc, amloss, amsloss = 0, 0, 0, 0\n",
    "    for batch, (x, y) in enumerate(data):\n",
    "        x = x.to(device = DEVICE, dtype=torch.float)\n",
    "        y = y.to(device = DEVICE, dtype=torch.float)\n",
    "        ypred = model(x)\n",
    "        bloss = loss(ypred ,y)\n",
    "        \n",
    "        optimizer.zero_grad()\n",
    "        bloss.backward()\n",
    "        optimizer.step()\n",
    "\n",
    "        with torch.no_grad():\n",
    "            acc = ((ypred.squeeze()>=0.50).int()==y).sum().item()/BATCH_SIZE\n",
    "\n",
    "            bloss = loss(ypred, y)\n",
    "            mloss = maeloss(ypred, y).item()\n",
    "            msloss = mseloss(ypred, y).item()\n",
    "            amloss += mloss\n",
    "            amsloss += msloss\n",
    "            aloss += bloss.item()\n",
    "            aacc += acc\n",
    "\n",
    "\n",
    "        print(\"Train - crossentropy_loss: %f  mae_loss:%f  mse_loss: %f  accuracy: %f  [%d/%d]\"%(bloss.item(), mloss, msloss, acc, batch+1, nbat), end=\"\\r\")\n",
    "    aloss /= nbat\n",
    "    aacc /= nbat\n",
    "    amloss /= nbat\n",
    "    amsloss /= nbat\n",
    "    print(\"\\nTrain - crossentropy_loss: %f  mae_loss: %f  mse_loss: %f  accuracy: %f  [Average]\"%(aloss, amloss, amsloss, aacc))\n",
    "    return (aloss, amloss, amsloss, aacc)"
   ]
  },
  {
   "cell_type": "code",
   "execution_count": 7,
   "metadata": {},
   "outputs": [],
   "source": [
    "def test(model, loss, maeloss, mseloss, data):\n",
    "    nbat = len(data)\n",
    "    acc, bloss, mloss, msloss = 0, 0, 0, 0\n",
    "\n",
    "    with torch.no_grad():\n",
    "        for x, y in data:\n",
    "            x = x.to(device=DEVICE, dtype=torch.float)\n",
    "            y = y.to(device=DEVICE, dtype=torch.float)\n",
    "            ypred = model(x)\n",
    "            bloss += loss(ypred ,y)\n",
    "            mloss += maeloss(ypred ,y).item()\n",
    "            msloss += mseloss(ypred, y).item()\n",
    "            acc += ((ypred.squeeze()>=0.50).int()==y).sum().item()/BATCH_SIZE\n",
    "    \n",
    "    acc /= nbat\n",
    "    bloss /= nbat\n",
    "    mloss /= nbat\n",
    "    msloss /= nbat\n",
    "    print(\"Test - crossentropy_loss: %f  mae_loss: %f  mse_loss: %f  accuracy: %f\"%(bloss.item(), mloss, msloss, acc))\n",
    "    return (bloss.item(), mloss, msloss, acc)"
   ]
  },
  {
   "cell_type": "code",
   "execution_count": 8,
   "metadata": {},
   "outputs": [],
   "source": [
    "def fit(model, loss, mloss, msloss, optimizer, train_loader, test_loader, epochs):\n",
    "    train_history = {\n",
    "        \"epochs\": list(range(1, epochs+1)),\n",
    "        \"crossentropy_loss\": list(),\n",
    "        \"mae_loss\": list(),\n",
    "        \"mse_loss\": list(),\n",
    "        \"accuracy\": list()\n",
    "    }\n",
    "    test_history = {\n",
    "        \"epochs\": list(range(1, epochs+1)),\n",
    "        \"crossentropy_loss\": list(),\n",
    "        \"mae_loss\": list(),\n",
    "        \"mse_loss\": list(),\n",
    "        \"accuracy\": list()\n",
    "    }\n",
    "    for e in range(epochs):\n",
    "        print(\"EPOCH %d/%d\"%(e+1, epochs))\n",
    "\n",
    "        l, m, ms, acc = train(model, loss, mloss, msloss, optimizer, train_loader)\n",
    "        train_history[\"crossentropy_loss\"].append(l)\n",
    "        train_history[\"mae_loss\"].append(m)\n",
    "        train_history[\"mse_loss\"].append(ms)\n",
    "        train_history[\"accuracy\"].append(acc)\n",
    "\n",
    "        l, m, ms, acc = test(model, loss, mloss, msloss, test_loader)\n",
    "        test_history[\"crossentropy_loss\"].append(l)\n",
    "        test_history[\"mae_loss\"].append(m)\n",
    "        test_history[\"mse_loss\"].append(ms)\n",
    "        test_history[\"accuracy\"].append(acc)\n",
    "\n",
    "        print(\"\\n--------------------\\n\")\n",
    "    return {\n",
    "        \"train\": train_history,\n",
    "        \"test\": test_history\n",
    "    }"
   ]
  },
  {
   "cell_type": "code",
   "execution_count": 9,
   "metadata": {},
   "outputs": [
    {
     "name": "stdout",
     "output_type": "stream",
     "text": [
      "----------------------------------------------------------------\n",
      "        Layer (type)               Output Shape         Param #\n",
      "================================================================\n",
      "            Conv2d-1         [-1, 16, 12, 1403]           4,816\n",
      "            Conv2d-2         [-1, 16, 12, 1306]          76,816\n",
      "         MaxPool2d-3           [-1, 16, 6, 653]               0\n",
      "            Conv2d-4           [-1, 32, 6, 556]         153,632\n",
      "            Conv2d-5           [-1, 32, 6, 459]         307,232\n",
      "         MaxPool2d-6           [-1, 32, 3, 229]               0\n",
      "            Conv2d-7           [-1, 32, 1, 130]         307,232\n",
      "            Linear-8                 [-1, 1024]       4,260,864\n",
      "              ReLU-9                 [-1, 1024]               0\n",
      "           Linear-10                  [-1, 512]         524,800\n",
      "             ReLU-11                  [-1, 512]               0\n",
      "           Linear-12                    [-1, 1]             513\n",
      "================================================================\n",
      "Total params: 5,635,905\n",
      "Trainable params: 5,635,905\n",
      "Non-trainable params: 0\n",
      "----------------------------------------------------------------\n",
      "Input size (MB): 0.07\n",
      "Forward/backward pass size (MB): 6.16\n",
      "Params size (MB): 21.50\n",
      "Estimated Total Size (MB): 27.72\n",
      "----------------------------------------------------------------\n"
     ]
    }
   ],
   "source": [
    "model = ECGNN().to(DEVICE)\n",
    "summary(model, (1, 12, 1500))"
   ]
  },
  {
   "cell_type": "code",
   "execution_count": 10,
   "metadata": {},
   "outputs": [],
   "source": [
    "optimizer = torch.optim.Adam(model.parameters(), lr=LEARNING_RATE)\n",
    "loss = nn.BCELoss()\n",
    "mloss = nn.L1Loss(reduction=\"mean\")\n",
    "msloss = nn.MSELoss()"
   ]
  },
  {
   "cell_type": "code",
   "execution_count": 11,
   "metadata": {},
   "outputs": [
    {
     "name": "stdout",
     "output_type": "stream",
     "text": [
      "EPOCH 1/25\n",
      "Train - crossentropy_loss: 0.347705  mae_loss:0.173896  mse_loss: 0.096736  accuracy: 7.562500  [443/443]]\n",
      "Train - crossentropy_loss: 0.453344  mae_loss: 0.303599  mse_loss: 0.148007  accuracy: 16.191027  [Average]\n",
      "Test - crossentropy_loss: 0.293045  mae_loss: 0.179792  mse_loss: 0.086519  accuracy: 16.395270\n",
      "\n",
      "--------------------\n",
      "\n",
      "EPOCH 2/25\n",
      "Train - crossentropy_loss: 0.381407  mae_loss:0.223752  mse_loss: 0.132166  accuracy: 16.187500  [62/443]\r"
     ]
    },
    {
     "ename": "KeyboardInterrupt",
     "evalue": "",
     "output_type": "error",
     "traceback": [
      "\u001b[0;31m---------------------------------------------------------------------------\u001b[0m",
      "\u001b[0;31mKeyboardInterrupt\u001b[0m                         Traceback (most recent call last)",
      "Cell \u001b[0;32mIn [11], line 1\u001b[0m\n\u001b[0;32m----> 1\u001b[0m history \u001b[39m=\u001b[39m fit(model, loss, mloss, msloss, optimizer, dataloaders[\u001b[39m0\u001b[39;49m], dataloaders[\u001b[39m1\u001b[39;49m], EPOCHS)\n",
      "Cell \u001b[0;32mIn [8], line 19\u001b[0m, in \u001b[0;36mfit\u001b[0;34m(model, loss, mloss, msloss, optimizer, train_loader, test_loader, epochs)\u001b[0m\n\u001b[1;32m     16\u001b[0m \u001b[39mfor\u001b[39;00m e \u001b[39min\u001b[39;00m \u001b[39mrange\u001b[39m(epochs):\n\u001b[1;32m     17\u001b[0m     \u001b[39mprint\u001b[39m(\u001b[39m\"\u001b[39m\u001b[39mEPOCH \u001b[39m\u001b[39m%d\u001b[39;00m\u001b[39m/\u001b[39m\u001b[39m%d\u001b[39;00m\u001b[39m\"\u001b[39m\u001b[39m%\u001b[39m(e\u001b[39m+\u001b[39m\u001b[39m1\u001b[39m, epochs))\n\u001b[0;32m---> 19\u001b[0m     l, m, ms, acc \u001b[39m=\u001b[39m train(model, loss, mloss, msloss, optimizer, train_loader)\n\u001b[1;32m     20\u001b[0m     train_history[\u001b[39m\"\u001b[39m\u001b[39mcrossentropy_loss\u001b[39m\u001b[39m\"\u001b[39m]\u001b[39m.\u001b[39mappend(l)\n\u001b[1;32m     21\u001b[0m     train_history[\u001b[39m\"\u001b[39m\u001b[39mmae_loss\u001b[39m\u001b[39m\"\u001b[39m]\u001b[39m.\u001b[39mappend(m)\n",
      "Cell \u001b[0;32mIn [6], line 17\u001b[0m, in \u001b[0;36mtrain\u001b[0;34m(model, loss, maeloss, mseloss, optimizer, data)\u001b[0m\n\u001b[1;32m     14\u001b[0m optimizer\u001b[39m.\u001b[39mstep()\n\u001b[1;32m     16\u001b[0m \u001b[39mwith\u001b[39;00m torch\u001b[39m.\u001b[39mno_grad():\n\u001b[0;32m---> 17\u001b[0m     acc \u001b[39m=\u001b[39m ((ypred\u001b[39m.\u001b[39;49msqueeze()\u001b[39m>\u001b[39;49m\u001b[39m=\u001b[39;49m\u001b[39m0.50\u001b[39;49m)\u001b[39m.\u001b[39;49mint()\u001b[39m==\u001b[39;49my)\u001b[39m.\u001b[39;49msum()\u001b[39m.\u001b[39;49mitem()\u001b[39m/\u001b[39mBATCH_SIZE\n\u001b[1;32m     19\u001b[0m     bloss \u001b[39m=\u001b[39m loss(ypred, y)\n\u001b[1;32m     20\u001b[0m     mloss \u001b[39m=\u001b[39m maeloss(ypred, y)\u001b[39m.\u001b[39mitem()\n",
      "\u001b[0;31mKeyboardInterrupt\u001b[0m: "
     ]
    }
   ],
   "source": [
    "history = fit(model, loss, mloss, msloss, optimizer, dataloaders[0], dataloaders[1], EPOCHS)"
   ]
  },
  {
   "cell_type": "code",
   "execution_count": null,
   "metadata": {},
   "outputs": [],
   "source": []
  }
 ],
 "metadata": {
  "kernelspec": {
   "display_name": "Python 3.8.10 64-bit",
   "language": "python",
   "name": "python3"
  },
  "language_info": {
   "codemirror_mode": {
    "name": "ipython",
    "version": 3
   },
   "file_extension": ".py",
   "mimetype": "text/x-python",
   "name": "python",
   "nbconvert_exporter": "python",
   "pygments_lexer": "ipython3",
   "version": "3.8.10"
  },
  "orig_nbformat": 4,
  "vscode": {
   "interpreter": {
    "hash": "e7370f93d1d0cde622a1f8e1c04877d8463912d04d973331ad4851f04de6915a"
   }
  }
 },
 "nbformat": 4,
 "nbformat_minor": 2
}
