{
  "cells": [
    {
      "cell_type": "code",
      "execution_count": 1,
      "metadata": {
        "id": "2qRrXuXKVkUC"
      },
      "outputs": [],
      "source": [
        "import torch\n",
        "import torch.nn as nn\n",
        "from torchsummary import summary\n",
        "\n",
        "import pandas as pd\n",
        "import plotly.express as px\n",
        "from time import time\n",
        "from sklearn import metrics"
      ]
    },
    {
      "cell_type": "code",
      "execution_count": 2,
      "metadata": {
        "id": "Xk607Hg6VkUF"
      },
      "outputs": [],
      "source": [
        "DEVICE = torch.device(\"cuda\" if torch.cuda.is_available() else \"cpu\")\n",
        "TIMESTEPS = 1500\n",
        "LEAD_COUNT = 12\n",
        "\n",
        "EPOCHS=30\n",
        "BATCH_SIZE=32\n",
        "LEARNING_RATE=8e-6"
      ]
    },
    {
      "cell_type": "code",
      "source": [
        "from google.colab import drive\n",
        "drive.mount('/content/drive')"
      ],
      "metadata": {
        "colab": {
          "base_uri": "https://localhost:8080/"
        },
        "id": "LwfZhB5hVv-q",
        "outputId": "19e37883-bf42-48d0-f00e-4499f78d0fb9"
      },
      "execution_count": 3,
      "outputs": [
        {
          "output_type": "stream",
          "name": "stdout",
          "text": [
            "Drive already mounted at /content/drive; to attempt to forcibly remount, call drive.mount(\"/content/drive\", force_remount=True).\n"
          ]
        }
      ]
    },
    {
      "cell_type": "code",
      "execution_count": 4,
      "metadata": {
        "id": "gDRYcLs5VkUH"
      },
      "outputs": [],
      "source": [
        "dataset = torch.load(\"drive/MyDrive/dataset3.pt\")\n",
        "\n",
        "split_size = list()\n",
        "split_size.append(int(0.64*len(dataset)))\n",
        "split_size.append(int(0.16*len(dataset)))\n",
        "split_size.append(len(dataset)-sum(split_size))\n",
        "\n",
        "datasets = torch.utils.data.random_split(dataset, split_size)"
      ]
    },
    {
      "cell_type": "code",
      "execution_count": 5,
      "metadata": {
        "id": "g0j4jXIGVkUJ"
      },
      "outputs": [],
      "source": [
        "dataloaders = [torch.utils.data.DataLoader(i, batch_size=b, shuffle=True) for i, b in zip(datasets, [BATCH_SIZE]*3)]"
      ]
    },
    {
      "cell_type": "code",
      "execution_count": 6,
      "metadata": {
        "id": "pvuQGMANVkUK"
      },
      "outputs": [],
      "source": [
        "class ECGNN(nn.Module):\n",
        "    def __init__(self):\n",
        "        super(ECGNN, self).__init__()\n",
        "        self.conv_block = nn.Sequential(\n",
        "            nn.Conv2d(1, 16, (3, 100), padding=1),\n",
        "            nn.Conv2d(16, 16, (3, 100), padding=1),\n",
        "            nn.MaxPool2d(2),\n",
        "            nn.Conv2d(16, 32, (3, 100), padding=1),\n",
        "            nn.Conv2d(32, 32, (3, 100), padding=1),\n",
        "            nn.MaxPool2d(2),\n",
        "            nn.Conv2d(32, 32, (3, 100))\n",
        "        )\n",
        "        self.lin_block = nn.Sequential(\n",
        "            nn.Linear(4160, 1024),\n",
        "            nn.ReLU(),\n",
        "            nn.Linear(1024, 512),\n",
        "            nn.ReLU(),\n",
        "            nn.Linear(512, 1)\n",
        "        )\n",
        "    \n",
        "    def forward(self, x):\n",
        "        x = self.conv_block(x)\n",
        "        x = torch.flatten(x, 1)\n",
        "        x = self.lin_block(x)\n",
        "        x = torch.sigmoid(x)\n",
        "        return x"
      ]
    },
    {
      "cell_type": "code",
      "execution_count": 7,
      "metadata": {
        "id": "HRXE8-ggVkUL"
      },
      "outputs": [],
      "source": [
        "def train(model, loss, maeloss, mseloss, optimizer, data):\n",
        "    global ypred\n",
        "    global x\n",
        "    nbat = len(data)\n",
        "    aloss, aacc, amloss, amsloss, aauc = 0, 0, 0,0,0\n",
        "    for batch, (x, y) in enumerate(data):\n",
        "        x = x.to(device = DEVICE, dtype=torch.float)\n",
        "        y = y.to(device = DEVICE, dtype=torch.float)\n",
        "        ypred = model(x)\n",
        "        bloss = loss(ypred ,y)\n",
        "        \n",
        "        optimizer.zero_grad()\n",
        "        bloss.backward()\n",
        "        optimizer.step()\n",
        "\n",
        "        with torch.no_grad():\n",
        "            #acc = ((ypred.squeeze()>=0.50).int()==y).sum().item()/BATCH_SIZE\n",
        "            fpr, tpr, thresholds = metrics.roc_curve(y.cpu().numpy(), ypred.cpu().squeeze().numpy())\n",
        "            auc = metrics.auc(fpr, tpr)\n",
        "            bloss = loss(ypred, y)\n",
        "            mloss = maeloss(ypred, y).item()\n",
        "            msloss = mseloss(ypred, y).item()\n",
        "            amloss += mloss\n",
        "            amsloss += msloss\n",
        "            aloss += bloss.item()\n",
        "            aauc += auc\n",
        "            #aacc += acc\n",
        "\n",
        "\n",
        "        print(\"Train - crossentropy_loss: %f  mae_loss:%f  mse_loss: %f  auc %f  [%d/%d]\"%(bloss.item(), mloss, msloss, auc, batch+1, nbat), end=\"\\r\")\n",
        "    aloss /= nbat\n",
        "    #aacc /= nbat\n",
        "    aauc /= nbat\n",
        "    amloss /= nbat\n",
        "    amsloss /= nbat\n",
        "    print(\"\\nTrain - crossentropy_loss: %f  mae_loss: %f  mse_loss: %f  auc: %f  [Average]\"%(aloss, amloss, amsloss, aauc))\n",
        "    return (aloss, amloss, amsloss, aauc)"
      ]
    },
    {
      "cell_type": "code",
      "execution_count": 8,
      "metadata": {
        "id": "a7rnOZAWVkUN"
      },
      "outputs": [],
      "source": [
        "def test(model, loss, maeloss, mseloss, data):\n",
        "    nbat = len(data)\n",
        "    auc, bloss, mloss, msloss = 0, 0, 0, 0\n",
        "\n",
        "    with torch.no_grad():\n",
        "        for x, y in data:\n",
        "            x = x.to(device=DEVICE, dtype=torch.float)\n",
        "            y = y.to(device=DEVICE, dtype=torch.float)\n",
        "            ypred = model(x)\n",
        "            bloss += loss(ypred ,y)\n",
        "            mloss += maeloss(ypred ,y).item()\n",
        "            msloss += mseloss(ypred, y).item()\n",
        "            #acc += ((ypred.squeeze()>=0.50).int()==y).sum().item()/BATCH_SIZE\n",
        "            fpr, tpr, thresholds = metrics.roc_curve(y.cpu().numpy(), ypred.cpu().squeeze().numpy())\n",
        "            auc += metrics.auc(fpr, tpr)\n",
        "    \n",
        "    #acc /= nbat\n",
        "    auc /= nbat\n",
        "    bloss /= nbat\n",
        "    mloss /= nbat\n",
        "    msloss /= nbat\n",
        "    print(\"Test - crossentropy_loss: %f  mae_loss: %f  mse_loss: %f  auc: %f\"%(bloss.item(), mloss, msloss, auc))\n",
        "    return (bloss.item(), mloss, msloss, auc)"
      ]
    },
    {
      "cell_type": "code",
      "execution_count": 9,
      "metadata": {
        "id": "r3bgbhNWVkUO"
      },
      "outputs": [],
      "source": [
        "def fit(model, loss, mloss, msloss, optimizer, train_loader, test_loader, epochs):\n",
        "    train_history = {\n",
        "        \"epochs\": list(range(1, epochs+1)),\n",
        "        \"crossentropy_loss\": list(),\n",
        "        \"mae_loss\": list(),\n",
        "        \"mse_loss\": list(),\n",
        "        \"auc\": list()\n",
        "    }\n",
        "    test_history = {\n",
        "        \"epochs\": list(range(1, epochs+1)),\n",
        "        \"crossentropy_loss\": list(),\n",
        "        \"mae_loss\": list(),\n",
        "        \"mse_loss\": list(),\n",
        "        \"auc\": list()\n",
        "    }\n",
        "    for e in range(epochs):\n",
        "        print(\"EPOCH %d/%d\"%(e+1, epochs))\n",
        "\n",
        "        l, m, ms, auc = train(model, loss, mloss, msloss, optimizer, train_loader)\n",
        "        train_history[\"crossentropy_loss\"].append(l)\n",
        "        train_history[\"mae_loss\"].append(m)\n",
        "        train_history[\"mse_loss\"].append(ms)\n",
        "        train_history[\"auc\"].append(auc)\n",
        "\n",
        "        l, m, ms, auc = test(model, loss, mloss, msloss, test_loader)\n",
        "        test_history[\"crossentropy_loss\"].append(l)\n",
        "        test_history[\"mae_loss\"].append(m)\n",
        "        test_history[\"mse_loss\"].append(ms)\n",
        "        test_history[\"auc\"].append(auc)\n",
        "\n",
        "        print(\"\\n--------------------\\n\")\n",
        "    return {\n",
        "        \"train\": train_history,\n",
        "        \"test\": test_history\n",
        "    }"
      ]
    },
    {
      "cell_type": "code",
      "execution_count": 10,
      "metadata": {
        "colab": {
          "base_uri": "https://localhost:8080/"
        },
        "id": "uPeBgUeEVkUQ",
        "outputId": "a48295a5-b469-4c05-bd2f-02006f9158a2"
      },
      "outputs": [
        {
          "output_type": "stream",
          "name": "stdout",
          "text": [
            "----------------------------------------------------------------\n",
            "        Layer (type)               Output Shape         Param #\n",
            "================================================================\n",
            "            Conv2d-1         [-1, 16, 12, 1403]           4,816\n",
            "            Conv2d-2         [-1, 16, 12, 1306]          76,816\n",
            "         MaxPool2d-3           [-1, 16, 6, 653]               0\n",
            "            Conv2d-4           [-1, 32, 6, 556]         153,632\n",
            "            Conv2d-5           [-1, 32, 6, 459]         307,232\n",
            "         MaxPool2d-6           [-1, 32, 3, 229]               0\n",
            "            Conv2d-7           [-1, 32, 1, 130]         307,232\n",
            "            Linear-8                 [-1, 1024]       4,260,864\n",
            "              ReLU-9                 [-1, 1024]               0\n",
            "           Linear-10                  [-1, 512]         524,800\n",
            "             ReLU-11                  [-1, 512]               0\n",
            "           Linear-12                    [-1, 1]             513\n",
            "================================================================\n",
            "Total params: 5,635,905\n",
            "Trainable params: 5,635,905\n",
            "Non-trainable params: 0\n",
            "----------------------------------------------------------------\n",
            "Input size (MB): 0.07\n",
            "Forward/backward pass size (MB): 6.16\n",
            "Params size (MB): 21.50\n",
            "Estimated Total Size (MB): 27.72\n",
            "----------------------------------------------------------------\n"
          ]
        }
      ],
      "source": [
        "model = ECGNN().to(DEVICE)\n",
        "summary(model, (1, 12, 1500))"
      ]
    },
    {
      "cell_type": "code",
      "execution_count": 11,
      "metadata": {
        "id": "TQHaCFA9VkUS"
      },
      "outputs": [],
      "source": [
        "optimizer = torch.optim.Adam(model.parameters(), lr=LEARNING_RATE)\n",
        "loss = nn.BCELoss()\n",
        "mloss = nn.L1Loss(reduction=\"mean\")\n",
        "msloss = nn.MSELoss()"
      ]
    },
    {
      "cell_type": "code",
      "execution_count": 12,
      "metadata": {
        "colab": {
          "base_uri": "https://localhost:8080/"
        },
        "id": "R9KuWu9lVkUS",
        "outputId": "07143f4e-7f79-4a8c-f4f7-80606bf4d8aa"
      },
      "outputs": [
        {
          "output_type": "stream",
          "name": "stdout",
          "text": [
            "EPOCH 1/30\n",
            "Train - crossentropy_loss: 0.104247  mae_loss:0.095120  mse_loss: 0.015461  auc 1.000000  [444/444]\n",
            "Train - crossentropy_loss: 0.506835  mae_loss: 0.351266  mse_loss: 0.170807  auc: 0.809336  [Average]\n",
            "Test - crossentropy_loss: 0.328046  mae_loss: 0.192538  mse_loss: 0.096950  auc: 0.009009\n",
            "\n",
            "--------------------\n",
            "\n",
            "EPOCH 2/30\n",
            "Train - crossentropy_loss: 0.119210  mae_loss:0.109176  mse_loss: 0.017382  auc 1.000000  [444/444]\n",
            "Train - crossentropy_loss: 0.286214  mae_loss: 0.176064  mse_loss: 0.085536  auc: 0.952305  [Average]\n",
            "Test - crossentropy_loss: 0.260571  mae_loss: 0.152262  mse_loss: 0.076727  auc: 0.009009\n",
            "\n",
            "--------------------\n",
            "\n",
            "EPOCH 3/30\n",
            "Train - crossentropy_loss: 0.184699  mae_loss:0.148057  mse_loss: 0.049823  auc 1.000000  [444/444]\n",
            "Train - crossentropy_loss: 0.235096  mae_loss: 0.144189  mse_loss: 0.069314  auc: 0.967514  [Average]\n",
            "Test - crossentropy_loss: 0.212757  mae_loss: 0.133138  mse_loss: 0.061539  auc: 0.008348\n",
            "\n",
            "--------------------\n",
            "\n",
            "EPOCH 4/30\n",
            "Train - crossentropy_loss: 0.021856  mae_loss:0.021149  mse_loss: 0.001341  auc 1.000000  [444/444]\n",
            "Train - crossentropy_loss: 0.196043  mae_loss: 0.119565  mse_loss: 0.057168  auc: 0.977168  [Average]\n",
            "Test - crossentropy_loss: 0.181273  mae_loss: 0.109266  mse_loss: 0.052298  auc: 0.008778\n",
            "\n",
            "--------------------\n",
            "\n",
            "EPOCH 5/30\n",
            "Train - crossentropy_loss: 0.276537  mae_loss:0.163694  mse_loss: 0.100857  auc 1.000000  [444/444]\n",
            "Train - crossentropy_loss: 0.170420  mae_loss: 0.102965  mse_loss: 0.049675  auc: 0.982284  [Average]\n",
            "Test - crossentropy_loss: 0.169212  mae_loss: 0.100469  mse_loss: 0.049098  auc: 0.009009\n",
            "\n",
            "--------------------\n",
            "\n",
            "EPOCH 6/30\n",
            "Train - crossentropy_loss: 0.206625  mae_loss:0.153859  mse_loss: 0.063599  auc 1.000000  [444/444]\n",
            "Train - crossentropy_loss: 0.154963  mae_loss: 0.093921  mse_loss: 0.045264  auc: 0.985852  [Average]\n",
            "Test - crossentropy_loss: 0.152138  mae_loss: 0.098471  mse_loss: 0.043423  auc: 0.009009\n",
            "\n",
            "--------------------\n",
            "\n",
            "EPOCH 7/30\n",
            "Train - crossentropy_loss: 0.005439  mae_loss:0.005406  mse_loss: 0.000066  auc 1.000000  [444/444]\n",
            "Train - crossentropy_loss: 0.140688  mae_loss: 0.084769  mse_loss: 0.040860  auc: 0.988113  [Average]\n",
            "Test - crossentropy_loss: 0.148765  mae_loss: 0.088303  mse_loss: 0.043172  auc: 0.008894\n",
            "\n",
            "--------------------\n",
            "\n",
            "EPOCH 8/30\n",
            "Train - crossentropy_loss: 0.064398  mae_loss:0.058705  mse_loss: 0.009969  auc 1.000000  [444/444]\n",
            "Train - crossentropy_loss: 0.134016  mae_loss: 0.080810  mse_loss: 0.038781  auc: 0.989637  [Average]\n",
            "Test - crossentropy_loss: 0.139415  mae_loss: 0.075439  mse_loss: 0.039791  auc: 0.008894\n",
            "\n",
            "--------------------\n",
            "\n",
            "EPOCH 9/30\n",
            "Train - crossentropy_loss: 0.028836  mae_loss:0.026893  mse_loss: 0.003509  auc 1.000000  [444/444]\n",
            "Train - crossentropy_loss: 0.123933  mae_loss: 0.074297  mse_loss: 0.035967  auc: 0.990959  [Average]\n",
            "Test - crossentropy_loss: 0.139274  mae_loss: 0.080722  mse_loss: 0.039976  auc: 0.009009\n",
            "\n",
            "--------------------\n",
            "\n",
            "EPOCH 10/30\n",
            "Train - crossentropy_loss: 0.004412  mae_loss:0.004393  mse_loss: 0.000038  auc 1.000000  [444/444]\n",
            "Train - crossentropy_loss: 0.115177  mae_loss: 0.070010  mse_loss: 0.033447  auc: 0.992578  [Average]\n",
            "Test - crossentropy_loss: 0.137016  mae_loss: 0.075723  mse_loss: 0.039587  auc: 0.008946\n",
            "\n",
            "--------------------\n",
            "\n",
            "EPOCH 11/30\n",
            "Train - crossentropy_loss: 0.021340  mae_loss:0.020432  mse_loss: 0.001698  auc 1.000000  [444/444]\n",
            "Train - crossentropy_loss: 0.110018  mae_loss: 0.066292  mse_loss: 0.032092  auc: 0.993151  [Average]\n",
            "Test - crossentropy_loss: 0.132499  mae_loss: 0.076577  mse_loss: 0.038833  auc: 0.009009\n",
            "\n",
            "--------------------\n",
            "\n",
            "EPOCH 12/30\n",
            "Train - crossentropy_loss: 0.473406  mae_loss:0.196201  mse_loss: 0.151939  auc 0.875000  [444/444]\n",
            "Train - crossentropy_loss: 0.103529  mae_loss: 0.062525  mse_loss: 0.030171  auc: 0.993777  [Average]\n",
            "Test - crossentropy_loss: 0.128433  mae_loss: 0.066447  mse_loss: 0.036871  auc: 0.008889\n",
            "\n",
            "--------------------\n",
            "\n",
            "EPOCH 13/30\n",
            "Train - crossentropy_loss: 0.003206  mae_loss:0.003197  mse_loss: 0.000018  auc 1.000000  [444/444]\n",
            "Train - crossentropy_loss: 0.096077  mae_loss: 0.058214  mse_loss: 0.027821  auc: 0.994512  [Average]\n",
            "Test - crossentropy_loss: 0.119910  mae_loss: 0.065468  mse_loss: 0.034607  auc: 0.009009\n",
            "\n",
            "--------------------\n",
            "\n",
            "EPOCH 14/30\n",
            "Train - crossentropy_loss: 0.001555  mae_loss:0.001553  mse_loss: 0.000005  auc 1.000000  [444/444]\n",
            "Train - crossentropy_loss: 0.092475  mae_loss: 0.055594  mse_loss: 0.026565  auc: 0.995291  [Average]\n",
            "Test - crossentropy_loss: 0.127655  mae_loss: 0.062632  mse_loss: 0.034995  auc: 0.009009\n",
            "\n",
            "--------------------\n",
            "\n",
            "EPOCH 15/30\n",
            "Train - crossentropy_loss: 0.005235  mae_loss:0.005188  mse_loss: 0.000091  auc 1.000000  [444/444]\n",
            "Train - crossentropy_loss: 0.081459  mae_loss: 0.049731  mse_loss: 0.023436  auc: 0.996130  [Average]\n",
            "Test - crossentropy_loss: 0.117630  mae_loss: 0.060010  mse_loss: 0.033140  auc: 0.009009\n",
            "\n",
            "--------------------\n",
            "\n",
            "EPOCH 16/30\n",
            "Train - crossentropy_loss: 0.012568  mae_loss:0.012191  mse_loss: 0.000721  auc nan  [444/444]\n",
            "Train - crossentropy_loss: 0.075058  mae_loss: 0.046425  mse_loss: 0.021544  auc: nan  [Average]\n"
          ]
        },
        {
          "output_type": "stream",
          "name": "stderr",
          "text": [
            "/usr/local/lib/python3.8/dist-packages/sklearn/metrics/_ranking.py:990: UndefinedMetricWarning: No negative samples in y_true, false positive value should be meaningless\n",
            "  warnings.warn(\n"
          ]
        },
        {
          "output_type": "stream",
          "name": "stdout",
          "text": [
            "Test - crossentropy_loss: 0.107312  mae_loss: 0.056953  mse_loss: 0.030664  auc: 0.009009\n",
            "\n",
            "--------------------\n",
            "\n",
            "EPOCH 17/30\n",
            "Train - crossentropy_loss: 0.004770  mae_loss:0.004733  mse_loss: 0.000073  auc 1.000000  [444/444]\n",
            "Train - crossentropy_loss: 0.073082  mae_loss: 0.044671  mse_loss: 0.020966  auc: 0.997060  [Average]\n",
            "Test - crossentropy_loss: 0.104437  mae_loss: 0.056129  mse_loss: 0.030260  auc: 0.009009\n",
            "\n",
            "--------------------\n",
            "\n",
            "EPOCH 18/30\n",
            "Train - crossentropy_loss: 0.110505  mae_loss:0.093409  mse_loss: 0.027000  auc 1.000000  [444/444]\n",
            "Train - crossentropy_loss: 0.067980  mae_loss: 0.041524  mse_loss: 0.019389  auc: 0.997277  [Average]\n",
            "Test - crossentropy_loss: 0.109999  mae_loss: 0.056103  mse_loss: 0.032073  auc: 0.008946\n",
            "\n",
            "--------------------\n",
            "\n",
            "EPOCH 19/30\n",
            "Train - crossentropy_loss: 0.024406  mae_loss:0.023436  mse_loss: 0.001819  auc 1.000000  [444/444]\n",
            "Train - crossentropy_loss: 0.062403  mae_loss: 0.038765  mse_loss: 0.017438  auc: 0.998293  [Average]\n",
            "Test - crossentropy_loss: 0.109297  mae_loss: 0.048563  mse_loss: 0.028702  auc: 0.008949\n",
            "\n",
            "--------------------\n",
            "\n",
            "EPOCH 20/30\n",
            "Train - crossentropy_loss: 0.114945  mae_loss:0.095191  mse_loss: 0.029219  auc 1.000000  [444/444]\n",
            "Train - crossentropy_loss: 0.059073  mae_loss: 0.036883  mse_loss: 0.016784  auc: 0.998337  [Average]\n",
            "Test - crossentropy_loss: 0.098712  mae_loss: 0.047823  mse_loss: 0.027404  auc: 0.009009\n",
            "\n",
            "--------------------\n",
            "\n",
            "EPOCH 21/30\n",
            "Train - crossentropy_loss: 0.048050  mae_loss:0.042492  mse_loss: 0.009334  auc 1.000000  [444/444]\n",
            "Train - crossentropy_loss: 0.053010  mae_loss: 0.032567  mse_loss: 0.014845  auc: 0.998727  [Average]\n",
            "Test - crossentropy_loss: 0.103700  mae_loss: 0.053086  mse_loss: 0.030000  auc: 0.008949\n",
            "\n",
            "--------------------\n",
            "\n",
            "EPOCH 22/30\n",
            "Train - crossentropy_loss: 0.001110  mae_loss:0.001109  mse_loss: 0.000003  auc 1.000000  [444/444]\n",
            "Train - crossentropy_loss: 0.046889  mae_loss: 0.029871  mse_loss: 0.013093  auc: 0.998782  [Average]\n",
            "Test - crossentropy_loss: 0.107824  mae_loss: 0.049651  mse_loss: 0.029927  auc: 0.008866\n",
            "\n",
            "--------------------\n",
            "\n",
            "EPOCH 23/30\n",
            "Train - crossentropy_loss: 0.000057  mae_loss:0.000057  mse_loss: 0.000000  auc 1.000000  [444/444]\n",
            "Train - crossentropy_loss: 0.046680  mae_loss: 0.029279  mse_loss: 0.013082  auc: 0.998599  [Average]\n",
            "Test - crossentropy_loss: 0.113739  mae_loss: 0.045023  mse_loss: 0.029878  auc: 0.009009\n",
            "\n",
            "--------------------\n",
            "\n",
            "EPOCH 24/30\n",
            "Train - crossentropy_loss: 0.003540  mae_loss:0.003528  mse_loss: 0.000025  auc 1.000000  [444/444]\n",
            "Train - crossentropy_loss: 0.040515  mae_loss: 0.025445  mse_loss: 0.011149  auc: 0.999111  [Average]\n",
            "Test - crossentropy_loss: 0.089232  mae_loss: 0.040433  mse_loss: 0.024011  auc: 0.008836\n",
            "\n",
            "--------------------\n",
            "\n",
            "EPOCH 25/30\n",
            "Train - crossentropy_loss: 0.001187  mae_loss:0.001185  mse_loss: 0.000004  auc 1.000000  [444/444]\n",
            "Train - crossentropy_loss: 0.040169  mae_loss: 0.024963  mse_loss: 0.011208  auc: 0.999178  [Average]\n",
            "Test - crossentropy_loss: 0.156340  mae_loss: 0.058993  mse_loss: 0.040519  auc: 0.009009\n",
            "\n",
            "--------------------\n",
            "\n",
            "EPOCH 26/30\n",
            "Train - crossentropy_loss: 0.013012  mae_loss:0.012714  mse_loss: 0.000576  auc 1.000000  [444/444]\n",
            "Train - crossentropy_loss: 0.037212  mae_loss: 0.024046  mse_loss: 0.010487  auc: 0.999386  [Average]\n",
            "Test - crossentropy_loss: 0.100624  mae_loss: 0.039828  mse_loss: 0.025604  auc: 0.008951\n",
            "\n",
            "--------------------\n",
            "\n",
            "EPOCH 27/30\n",
            "Train - crossentropy_loss: 0.230946  mae_loss:0.166603  mse_loss: 0.083277  auc 1.000000  [444/444]\n",
            "Train - crossentropy_loss: 0.032686  mae_loss: 0.020922  mse_loss: 0.009282  auc: 0.999489  [Average]\n",
            "Test - crossentropy_loss: 0.131118  mae_loss: 0.049491  mse_loss: 0.033656  auc: 0.009009\n",
            "\n",
            "--------------------\n",
            "\n",
            "EPOCH 28/30\n",
            "Train - crossentropy_loss: 0.000012  mae_loss:0.000012  mse_loss: 0.000000  auc 1.000000  [444/444]\n",
            "Train - crossentropy_loss: 0.032397  mae_loss: 0.020823  mse_loss: 0.009103  auc: 0.999644  [Average]\n",
            "Test - crossentropy_loss: 0.101748  mae_loss: 0.036746  mse_loss: 0.024555  auc: 0.008949\n",
            "\n",
            "--------------------\n",
            "\n",
            "EPOCH 29/30\n",
            "Train - crossentropy_loss: 0.001188  mae_loss:0.001186  mse_loss: 0.000005  auc 1.000000  [444/444]\n",
            "Train - crossentropy_loss: 0.025570  mae_loss: 0.016683  mse_loss: 0.007044  auc: 0.999743  [Average]\n",
            "Test - crossentropy_loss: 0.098298  mae_loss: 0.036662  mse_loss: 0.023962  auc: 0.009009\n",
            "\n",
            "--------------------\n",
            "\n",
            "EPOCH 30/30\n",
            "Train - crossentropy_loss: 0.000679  mae_loss:0.000679  mse_loss: 0.000002  auc 1.000000  [444/444]\n",
            "Train - crossentropy_loss: 0.023217  mae_loss: 0.015134  mse_loss: 0.006280  auc: 0.999662  [Average]\n",
            "Test - crossentropy_loss: 0.094870  mae_loss: 0.036114  mse_loss: 0.023176  auc: 0.008836\n",
            "\n",
            "--------------------\n",
            "\n"
          ]
        }
      ],
      "source": [
        "history = fit(model, loss, mloss, msloss, optimizer, dataloaders[0], dataloaders[1], EPOCHS)"
      ]
    },
    {
      "cell_type": "code",
      "execution_count": 13,
      "metadata": {
        "colab": {
          "base_uri": "https://localhost:8080/",
          "height": 542
        },
        "id": "tn4nWfyqVkUT",
        "outputId": "7c8f0338-d98f-4c4f-e6f4-56814b9c351f"
      },
      "outputs": [
        {
          "output_type": "display_data",
          "data": {
            "text/html": [
              "<html>\n",
              "<head><meta charset=\"utf-8\" /></head>\n",
              "<body>\n",
              "    <div>            <script src=\"https://cdnjs.cloudflare.com/ajax/libs/mathjax/2.7.5/MathJax.js?config=TeX-AMS-MML_SVG\"></script><script type=\"text/javascript\">if (window.MathJax) {MathJax.Hub.Config({SVG: {font: \"STIX-Web\"}});}</script>                <script type=\"text/javascript\">window.PlotlyConfig = {MathJaxConfig: 'local'};</script>\n",
              "        <script src=\"https://cdn.plot.ly/plotly-2.8.3.min.js\"></script>                <div id=\"1e647c38-6d90-4818-a84a-6bacbbeff487\" class=\"plotly-graph-div\" style=\"height:525px; width:100%;\"></div>            <script type=\"text/javascript\">                                    window.PLOTLYENV=window.PLOTLYENV || {};                                    if (document.getElementById(\"1e647c38-6d90-4818-a84a-6bacbbeff487\")) {                    Plotly.newPlot(                        \"1e647c38-6d90-4818-a84a-6bacbbeff487\",                        [{\"hovertemplate\":\"variable=epochs<br>index=%{x}<br>value=%{y}<extra></extra>\",\"legendgroup\":\"epochs\",\"line\":{\"color\":\"#636efa\",\"dash\":\"solid\"},\"marker\":{\"symbol\":\"circle\"},\"mode\":\"lines\",\"name\":\"epochs\",\"orientation\":\"v\",\"showlegend\":true,\"x\":[0,1,2,3,4,5,6,7,8,9,10,11,12,13,14,15,16,17,18,19,20,21,22,23,24,25,26,27,28,29],\"xaxis\":\"x\",\"y\":[1.0,2.0,3.0,4.0,5.0,6.0,7.0,8.0,9.0,10.0,11.0,12.0,13.0,14.0,15.0,16.0,17.0,18.0,19.0,20.0,21.0,22.0,23.0,24.0,25.0,26.0,27.0,28.0,29.0,30.0],\"yaxis\":\"y\",\"type\":\"scatter\"},{\"hovertemplate\":\"variable=crossentropy_loss<br>index=%{x}<br>value=%{y}<extra></extra>\",\"legendgroup\":\"crossentropy_loss\",\"line\":{\"color\":\"#EF553B\",\"dash\":\"solid\"},\"marker\":{\"symbol\":\"circle\"},\"mode\":\"lines\",\"name\":\"crossentropy_loss\",\"orientation\":\"v\",\"showlegend\":true,\"x\":[0,1,2,3,4,5,6,7,8,9,10,11,12,13,14,15,16,17,18,19,20,21,22,23,24,25,26,27,28,29],\"xaxis\":\"x\",\"y\":[0.5068348585082604,0.28621429966779444,0.2350959431480717,0.19604341303594075,0.17041994190800028,0.1549630519548045,0.14068807847378356,0.13401622188839693,0.1239330991787987,0.11517736483637982,0.11001815093756728,0.10352903189083042,0.09607728509870064,0.09247532966787936,0.08145870118787898,0.07505795947875962,0.0730822970723599,0.06798048938366559,0.06240321224060346,0.05907322783316779,0.053009762260108464,0.046888583443056256,0.046679981166332936,0.040515100612537935,0.040169058248834884,0.03721172067909376,0.03268627924590292,0.03239678109912347,0.02556975479570725,0.02321684040925738],\"yaxis\":\"y\",\"type\":\"scatter\"},{\"hovertemplate\":\"variable=mae_loss<br>index=%{x}<br>value=%{y}<extra></extra>\",\"legendgroup\":\"mae_loss\",\"line\":{\"color\":\"#00cc96\",\"dash\":\"solid\"},\"marker\":{\"symbol\":\"circle\"},\"mode\":\"lines\",\"name\":\"mae_loss\",\"orientation\":\"v\",\"showlegend\":true,\"x\":[0,1,2,3,4,5,6,7,8,9,10,11,12,13,14,15,16,17,18,19,20,21,22,23,24,25,26,27,28,29],\"xaxis\":\"x\",\"y\":[0.35126622625299403,0.17606414119536812,0.14418947564958184,0.11956488774871235,0.10296511008647515,0.09392143208701331,0.0847688986823332,0.08081029518717178,0.07429671412761751,0.07001012214249722,0.06629202669478013,0.06252481822062887,0.05821360700746982,0.05559412503367508,0.049730636703840515,0.046424943101088946,0.04467119532112905,0.0415242144786585,0.03876530937955354,0.03688257515350743,0.0325668153561744,0.029870637875524356,0.029278523760293464,0.025444775232982293,0.024963070594690957,0.02404618888950764,0.020921700501521874,0.020823065837605,0.01668339287812364,0.015134483181255902],\"yaxis\":\"y\",\"type\":\"scatter\"},{\"hovertemplate\":\"variable=mse_loss<br>index=%{x}<br>value=%{y}<extra></extra>\",\"legendgroup\":\"mse_loss\",\"line\":{\"color\":\"#ab63fa\",\"dash\":\"solid\"},\"marker\":{\"symbol\":\"circle\"},\"mode\":\"lines\",\"name\":\"mse_loss\",\"orientation\":\"v\",\"showlegend\":true,\"x\":[0,1,2,3,4,5,6,7,8,9,10,11,12,13,14,15,16,17,18,19,20,21,22,23,24,25,26,27,28,29],\"xaxis\":\"x\",\"y\":[0.17080678470718028,0.08553565162242399,0.06931381909017292,0.05716770097428748,0.04967539454443246,0.045263619407427264,0.04086040255506387,0.038780947535210664,0.035966901662644116,0.033447020187088276,0.032091668704910065,0.030171273507074,0.02782081612002019,0.026565473334036502,0.023436472761229222,0.021543608325094915,0.020966018824068882,0.01938851512077563,0.017438374649786925,0.016783829715079576,0.014844821987536134,0.013093038557033995,0.013082303053576,0.011148941734198751,0.011207811068542212,0.010486714412776122,0.009281566107352694,0.009102729036231274,0.007044151518649109,0.006279740056648115],\"yaxis\":\"y\",\"type\":\"scatter\"},{\"hovertemplate\":\"variable=auc<br>index=%{x}<br>value=%{y}<extra></extra>\",\"legendgroup\":\"auc\",\"line\":{\"color\":\"#FFA15A\",\"dash\":\"solid\"},\"marker\":{\"symbol\":\"circle\"},\"mode\":\"lines\",\"name\":\"auc\",\"orientation\":\"v\",\"showlegend\":true,\"x\":[0,1,2,3,4,5,6,7,8,9,10,11,12,13,14,15,16,17,18,19,20,21,22,23,24,25,26,27,28,29],\"xaxis\":\"x\",\"y\":[0.809336325367557,0.9523054931726208,0.9675142610376589,0.9771683538845762,0.9822844998431981,0.9858519195732435,0.9881130119875408,0.989637329111598,0.9909587615345474,0.9925784520713664,0.9931509050340773,0.993777363571862,0.9945122010316017,0.9952907129468432,0.9961303681656626,null,0.9970599351259926,0.9972766169290141,0.9982928103665097,0.998337043465326,0.9987273170732054,0.9987820575349445,0.9985986771505835,0.999110986349159,0.9991783977791624,0.9993855113039121,0.9994891442398942,0.9996435299030597,0.999743080519614,0.9996624381208603],\"yaxis\":\"y\",\"type\":\"scatter\"}],                        {\"template\":{\"data\":{\"bar\":[{\"error_x\":{\"color\":\"#2a3f5f\"},\"error_y\":{\"color\":\"#2a3f5f\"},\"marker\":{\"line\":{\"color\":\"#E5ECF6\",\"width\":0.5},\"pattern\":{\"fillmode\":\"overlay\",\"size\":10,\"solidity\":0.2}},\"type\":\"bar\"}],\"barpolar\":[{\"marker\":{\"line\":{\"color\":\"#E5ECF6\",\"width\":0.5},\"pattern\":{\"fillmode\":\"overlay\",\"size\":10,\"solidity\":0.2}},\"type\":\"barpolar\"}],\"carpet\":[{\"aaxis\":{\"endlinecolor\":\"#2a3f5f\",\"gridcolor\":\"white\",\"linecolor\":\"white\",\"minorgridcolor\":\"white\",\"startlinecolor\":\"#2a3f5f\"},\"baxis\":{\"endlinecolor\":\"#2a3f5f\",\"gridcolor\":\"white\",\"linecolor\":\"white\",\"minorgridcolor\":\"white\",\"startlinecolor\":\"#2a3f5f\"},\"type\":\"carpet\"}],\"choropleth\":[{\"colorbar\":{\"outlinewidth\":0,\"ticks\":\"\"},\"type\":\"choropleth\"}],\"contour\":[{\"colorbar\":{\"outlinewidth\":0,\"ticks\":\"\"},\"colorscale\":[[0.0,\"#0d0887\"],[0.1111111111111111,\"#46039f\"],[0.2222222222222222,\"#7201a8\"],[0.3333333333333333,\"#9c179e\"],[0.4444444444444444,\"#bd3786\"],[0.5555555555555556,\"#d8576b\"],[0.6666666666666666,\"#ed7953\"],[0.7777777777777778,\"#fb9f3a\"],[0.8888888888888888,\"#fdca26\"],[1.0,\"#f0f921\"]],\"type\":\"contour\"}],\"contourcarpet\":[{\"colorbar\":{\"outlinewidth\":0,\"ticks\":\"\"},\"type\":\"contourcarpet\"}],\"heatmap\":[{\"colorbar\":{\"outlinewidth\":0,\"ticks\":\"\"},\"colorscale\":[[0.0,\"#0d0887\"],[0.1111111111111111,\"#46039f\"],[0.2222222222222222,\"#7201a8\"],[0.3333333333333333,\"#9c179e\"],[0.4444444444444444,\"#bd3786\"],[0.5555555555555556,\"#d8576b\"],[0.6666666666666666,\"#ed7953\"],[0.7777777777777778,\"#fb9f3a\"],[0.8888888888888888,\"#fdca26\"],[1.0,\"#f0f921\"]],\"type\":\"heatmap\"}],\"heatmapgl\":[{\"colorbar\":{\"outlinewidth\":0,\"ticks\":\"\"},\"colorscale\":[[0.0,\"#0d0887\"],[0.1111111111111111,\"#46039f\"],[0.2222222222222222,\"#7201a8\"],[0.3333333333333333,\"#9c179e\"],[0.4444444444444444,\"#bd3786\"],[0.5555555555555556,\"#d8576b\"],[0.6666666666666666,\"#ed7953\"],[0.7777777777777778,\"#fb9f3a\"],[0.8888888888888888,\"#fdca26\"],[1.0,\"#f0f921\"]],\"type\":\"heatmapgl\"}],\"histogram\":[{\"marker\":{\"pattern\":{\"fillmode\":\"overlay\",\"size\":10,\"solidity\":0.2}},\"type\":\"histogram\"}],\"histogram2d\":[{\"colorbar\":{\"outlinewidth\":0,\"ticks\":\"\"},\"colorscale\":[[0.0,\"#0d0887\"],[0.1111111111111111,\"#46039f\"],[0.2222222222222222,\"#7201a8\"],[0.3333333333333333,\"#9c179e\"],[0.4444444444444444,\"#bd3786\"],[0.5555555555555556,\"#d8576b\"],[0.6666666666666666,\"#ed7953\"],[0.7777777777777778,\"#fb9f3a\"],[0.8888888888888888,\"#fdca26\"],[1.0,\"#f0f921\"]],\"type\":\"histogram2d\"}],\"histogram2dcontour\":[{\"colorbar\":{\"outlinewidth\":0,\"ticks\":\"\"},\"colorscale\":[[0.0,\"#0d0887\"],[0.1111111111111111,\"#46039f\"],[0.2222222222222222,\"#7201a8\"],[0.3333333333333333,\"#9c179e\"],[0.4444444444444444,\"#bd3786\"],[0.5555555555555556,\"#d8576b\"],[0.6666666666666666,\"#ed7953\"],[0.7777777777777778,\"#fb9f3a\"],[0.8888888888888888,\"#fdca26\"],[1.0,\"#f0f921\"]],\"type\":\"histogram2dcontour\"}],\"mesh3d\":[{\"colorbar\":{\"outlinewidth\":0,\"ticks\":\"\"},\"type\":\"mesh3d\"}],\"parcoords\":[{\"line\":{\"colorbar\":{\"outlinewidth\":0,\"ticks\":\"\"}},\"type\":\"parcoords\"}],\"pie\":[{\"automargin\":true,\"type\":\"pie\"}],\"scatter\":[{\"marker\":{\"colorbar\":{\"outlinewidth\":0,\"ticks\":\"\"}},\"type\":\"scatter\"}],\"scatter3d\":[{\"line\":{\"colorbar\":{\"outlinewidth\":0,\"ticks\":\"\"}},\"marker\":{\"colorbar\":{\"outlinewidth\":0,\"ticks\":\"\"}},\"type\":\"scatter3d\"}],\"scattercarpet\":[{\"marker\":{\"colorbar\":{\"outlinewidth\":0,\"ticks\":\"\"}},\"type\":\"scattercarpet\"}],\"scattergeo\":[{\"marker\":{\"colorbar\":{\"outlinewidth\":0,\"ticks\":\"\"}},\"type\":\"scattergeo\"}],\"scattergl\":[{\"marker\":{\"colorbar\":{\"outlinewidth\":0,\"ticks\":\"\"}},\"type\":\"scattergl\"}],\"scattermapbox\":[{\"marker\":{\"colorbar\":{\"outlinewidth\":0,\"ticks\":\"\"}},\"type\":\"scattermapbox\"}],\"scatterpolar\":[{\"marker\":{\"colorbar\":{\"outlinewidth\":0,\"ticks\":\"\"}},\"type\":\"scatterpolar\"}],\"scatterpolargl\":[{\"marker\":{\"colorbar\":{\"outlinewidth\":0,\"ticks\":\"\"}},\"type\":\"scatterpolargl\"}],\"scatterternary\":[{\"marker\":{\"colorbar\":{\"outlinewidth\":0,\"ticks\":\"\"}},\"type\":\"scatterternary\"}],\"surface\":[{\"colorbar\":{\"outlinewidth\":0,\"ticks\":\"\"},\"colorscale\":[[0.0,\"#0d0887\"],[0.1111111111111111,\"#46039f\"],[0.2222222222222222,\"#7201a8\"],[0.3333333333333333,\"#9c179e\"],[0.4444444444444444,\"#bd3786\"],[0.5555555555555556,\"#d8576b\"],[0.6666666666666666,\"#ed7953\"],[0.7777777777777778,\"#fb9f3a\"],[0.8888888888888888,\"#fdca26\"],[1.0,\"#f0f921\"]],\"type\":\"surface\"}],\"table\":[{\"cells\":{\"fill\":{\"color\":\"#EBF0F8\"},\"line\":{\"color\":\"white\"}},\"header\":{\"fill\":{\"color\":\"#C8D4E3\"},\"line\":{\"color\":\"white\"}},\"type\":\"table\"}]},\"layout\":{\"annotationdefaults\":{\"arrowcolor\":\"#2a3f5f\",\"arrowhead\":0,\"arrowwidth\":1},\"autotypenumbers\":\"strict\",\"coloraxis\":{\"colorbar\":{\"outlinewidth\":0,\"ticks\":\"\"}},\"colorscale\":{\"diverging\":[[0,\"#8e0152\"],[0.1,\"#c51b7d\"],[0.2,\"#de77ae\"],[0.3,\"#f1b6da\"],[0.4,\"#fde0ef\"],[0.5,\"#f7f7f7\"],[0.6,\"#e6f5d0\"],[0.7,\"#b8e186\"],[0.8,\"#7fbc41\"],[0.9,\"#4d9221\"],[1,\"#276419\"]],\"sequential\":[[0.0,\"#0d0887\"],[0.1111111111111111,\"#46039f\"],[0.2222222222222222,\"#7201a8\"],[0.3333333333333333,\"#9c179e\"],[0.4444444444444444,\"#bd3786\"],[0.5555555555555556,\"#d8576b\"],[0.6666666666666666,\"#ed7953\"],[0.7777777777777778,\"#fb9f3a\"],[0.8888888888888888,\"#fdca26\"],[1.0,\"#f0f921\"]],\"sequentialminus\":[[0.0,\"#0d0887\"],[0.1111111111111111,\"#46039f\"],[0.2222222222222222,\"#7201a8\"],[0.3333333333333333,\"#9c179e\"],[0.4444444444444444,\"#bd3786\"],[0.5555555555555556,\"#d8576b\"],[0.6666666666666666,\"#ed7953\"],[0.7777777777777778,\"#fb9f3a\"],[0.8888888888888888,\"#fdca26\"],[1.0,\"#f0f921\"]]},\"colorway\":[\"#636efa\",\"#EF553B\",\"#00cc96\",\"#ab63fa\",\"#FFA15A\",\"#19d3f3\",\"#FF6692\",\"#B6E880\",\"#FF97FF\",\"#FECB52\"],\"font\":{\"color\":\"#2a3f5f\"},\"geo\":{\"bgcolor\":\"white\",\"lakecolor\":\"white\",\"landcolor\":\"#E5ECF6\",\"showlakes\":true,\"showland\":true,\"subunitcolor\":\"white\"},\"hoverlabel\":{\"align\":\"left\"},\"hovermode\":\"closest\",\"mapbox\":{\"style\":\"light\"},\"paper_bgcolor\":\"white\",\"plot_bgcolor\":\"#E5ECF6\",\"polar\":{\"angularaxis\":{\"gridcolor\":\"white\",\"linecolor\":\"white\",\"ticks\":\"\"},\"bgcolor\":\"#E5ECF6\",\"radialaxis\":{\"gridcolor\":\"white\",\"linecolor\":\"white\",\"ticks\":\"\"}},\"scene\":{\"xaxis\":{\"backgroundcolor\":\"#E5ECF6\",\"gridcolor\":\"white\",\"gridwidth\":2,\"linecolor\":\"white\",\"showbackground\":true,\"ticks\":\"\",\"zerolinecolor\":\"white\"},\"yaxis\":{\"backgroundcolor\":\"#E5ECF6\",\"gridcolor\":\"white\",\"gridwidth\":2,\"linecolor\":\"white\",\"showbackground\":true,\"ticks\":\"\",\"zerolinecolor\":\"white\"},\"zaxis\":{\"backgroundcolor\":\"#E5ECF6\",\"gridcolor\":\"white\",\"gridwidth\":2,\"linecolor\":\"white\",\"showbackground\":true,\"ticks\":\"\",\"zerolinecolor\":\"white\"}},\"shapedefaults\":{\"line\":{\"color\":\"#2a3f5f\"}},\"ternary\":{\"aaxis\":{\"gridcolor\":\"white\",\"linecolor\":\"white\",\"ticks\":\"\"},\"baxis\":{\"gridcolor\":\"white\",\"linecolor\":\"white\",\"ticks\":\"\"},\"bgcolor\":\"#E5ECF6\",\"caxis\":{\"gridcolor\":\"white\",\"linecolor\":\"white\",\"ticks\":\"\"}},\"title\":{\"x\":0.05},\"xaxis\":{\"automargin\":true,\"gridcolor\":\"white\",\"linecolor\":\"white\",\"ticks\":\"\",\"title\":{\"standoff\":15},\"zerolinecolor\":\"white\",\"zerolinewidth\":2},\"yaxis\":{\"automargin\":true,\"gridcolor\":\"white\",\"linecolor\":\"white\",\"ticks\":\"\",\"title\":{\"standoff\":15},\"zerolinecolor\":\"white\",\"zerolinewidth\":2}}},\"xaxis\":{\"anchor\":\"y\",\"domain\":[0.0,1.0],\"title\":{\"text\":\"index\"}},\"yaxis\":{\"anchor\":\"x\",\"domain\":[0.0,1.0],\"title\":{\"text\":\"value\"}},\"legend\":{\"title\":{\"text\":\"variable\"},\"tracegroupgap\":0},\"margin\":{\"t\":60}},                        {\"responsive\": true}                    ).then(function(){\n",
              "                            \n",
              "var gd = document.getElementById('1e647c38-6d90-4818-a84a-6bacbbeff487');\n",
              "var x = new MutationObserver(function (mutations, observer) {{\n",
              "        var display = window.getComputedStyle(gd).display;\n",
              "        if (!display || display === 'none') {{\n",
              "            console.log([gd, 'removed!']);\n",
              "            Plotly.purge(gd);\n",
              "            observer.disconnect();\n",
              "        }}\n",
              "}});\n",
              "\n",
              "// Listen for the removal of the full notebook cells\n",
              "var notebookContainer = gd.closest('#notebook-container');\n",
              "if (notebookContainer) {{\n",
              "    x.observe(notebookContainer, {childList: true});\n",
              "}}\n",
              "\n",
              "// Listen for the clearing of the current output cell\n",
              "var outputEl = gd.closest('.output');\n",
              "if (outputEl) {{\n",
              "    x.observe(outputEl, {childList: true});\n",
              "}}\n",
              "\n",
              "                        })                };                            </script>        </div>\n",
              "</body>\n",
              "</html>"
            ]
          },
          "metadata": {}
        }
      ],
      "source": [
        "px.line(pd.DataFrame(history[\"train\"]))"
      ]
    },
    {
      "cell_type": "code",
      "execution_count": 22,
      "metadata": {
        "colab": {
          "base_uri": "https://localhost:8080/",
          "height": 542
        },
        "id": "x6SghwIJVkUT",
        "outputId": "5ed9d046-f675-4b1e-8c89-5c1e5e01bad1"
      },
      "outputs": [
        {
          "output_type": "display_data",
          "data": {
            "text/html": [
              "<html>\n",
              "<head><meta charset=\"utf-8\" /></head>\n",
              "<body>\n",
              "    <div>            <script src=\"https://cdnjs.cloudflare.com/ajax/libs/mathjax/2.7.5/MathJax.js?config=TeX-AMS-MML_SVG\"></script><script type=\"text/javascript\">if (window.MathJax) {MathJax.Hub.Config({SVG: {font: \"STIX-Web\"}});}</script>                <script type=\"text/javascript\">window.PlotlyConfig = {MathJaxConfig: 'local'};</script>\n",
              "        <script src=\"https://cdn.plot.ly/plotly-2.8.3.min.js\"></script>                <div id=\"896c8de6-c085-4066-88d5-69bd62900518\" class=\"plotly-graph-div\" style=\"height:525px; width:100%;\"></div>            <script type=\"text/javascript\">                                    window.PLOTLYENV=window.PLOTLYENV || {};                                    if (document.getElementById(\"896c8de6-c085-4066-88d5-69bd62900518\")) {                    Plotly.newPlot(                        \"896c8de6-c085-4066-88d5-69bd62900518\",                        [{\"hovertemplate\":\"variable=epochs<br>index=%{x}<br>value=%{y}<extra></extra>\",\"legendgroup\":\"epochs\",\"line\":{\"color\":\"#636efa\",\"dash\":\"solid\"},\"marker\":{\"symbol\":\"circle\"},\"mode\":\"lines\",\"name\":\"epochs\",\"orientation\":\"v\",\"showlegend\":true,\"x\":[0,1,2,3,4,5,6,7,8,9,10,11,12,13,14,15,16,17,18,19,20,21,22,23,24,25,26,27,28,29],\"xaxis\":\"x\",\"y\":[1.0,2.0,3.0,4.0,5.0,6.0,7.0,8.0,9.0,10.0,11.0,12.0,13.0,14.0,15.0,16.0,17.0,18.0,19.0,20.0,21.0,22.0,23.0,24.0,25.0,26.0,27.0,28.0,29.0,30.0],\"yaxis\":\"y\",\"type\":\"scatter\"},{\"hovertemplate\":\"variable=crossentropy_loss<br>index=%{x}<br>value=%{y}<extra></extra>\",\"legendgroup\":\"crossentropy_loss\",\"line\":{\"color\":\"#EF553B\",\"dash\":\"solid\"},\"marker\":{\"symbol\":\"circle\"},\"mode\":\"lines\",\"name\":\"crossentropy_loss\",\"orientation\":\"v\",\"showlegend\":true,\"x\":[0,1,2,3,4,5,6,7,8,9,10,11,12,13,14,15,16,17,18,19,20,21,22,23,24,25,26,27,28,29],\"xaxis\":\"x\",\"y\":[0.32804590463638306,0.2605711817741394,0.21275749802589417,0.18127326667308807,0.16921164095401764,0.15213751792907715,0.1487649530172348,0.13941530883312225,0.13927394151687622,0.13701556622982025,0.13249890506267548,0.12843260169029236,0.11990954726934433,0.12765510380268097,0.11763021349906921,0.10731188207864761,0.10443650931119919,0.10999941825866699,0.10929720848798752,0.09871179610490799,0.10369955003261566,0.10782432556152344,0.11373945325613022,0.08923224359750748,0.15633998811244965,0.10062362998723984,0.1311182826757431,0.10174789279699326,0.09829825907945633,0.09486983716487885],\"yaxis\":\"y\",\"type\":\"scatter\"},{\"hovertemplate\":\"variable=mae_loss<br>index=%{x}<br>value=%{y}<extra></extra>\",\"legendgroup\":\"mae_loss\",\"line\":{\"color\":\"#00cc96\",\"dash\":\"solid\"},\"marker\":{\"symbol\":\"circle\"},\"mode\":\"lines\",\"name\":\"mae_loss\",\"orientation\":\"v\",\"showlegend\":true,\"x\":[0,1,2,3,4,5,6,7,8,9,10,11,12,13,14,15,16,17,18,19,20,21,22,23,24,25,26,27,28,29],\"xaxis\":\"x\",\"y\":[0.1925384088142498,0.15226159842164666,0.133137955523289,0.10926624778490346,0.10046894066371359,0.0984706758513107,0.08830308687646647,0.0754387451772083,0.08072197645365654,0.07572260822026848,0.07657676072673755,0.06644683578764801,0.06546791872798323,0.06263175713284327,0.060009624926490826,0.05695320539981932,0.05612865987502307,0.05610288731619582,0.048563225629009506,0.04782348896821474,0.05308603659179901,0.04965131082949606,0.0450227704506917,0.040432960352952685,0.05899255396483617,0.0398283589857857,0.049490863021026864,0.03674588847259345,0.03666186208736051,0.03611425757169543],\"yaxis\":\"y\",\"type\":\"scatter\"},{\"hovertemplate\":\"variable=mse_loss<br>index=%{x}<br>value=%{y}<extra></extra>\",\"legendgroup\":\"mse_loss\",\"line\":{\"color\":\"#ab63fa\",\"dash\":\"solid\"},\"marker\":{\"symbol\":\"circle\"},\"mode\":\"lines\",\"name\":\"mse_loss\",\"orientation\":\"v\",\"showlegend\":true,\"x\":[0,1,2,3,4,5,6,7,8,9,10,11,12,13,14,15,16,17,18,19,20,21,22,23,24,25,26,27,28,29],\"xaxis\":\"x\",\"y\":[0.09694989498805355,0.07672712916659342,0.06153949848502069,0.052298358517808015,0.049098413991364276,0.043423205949701706,0.04317216086620884,0.0397909474029491,0.03997580467110819,0.03958680977004471,0.03883273615963287,0.036871099990880674,0.03460693454395074,0.0349946366862954,0.03313998407041229,0.030664129829273332,0.03026047251232494,0.03207307431987395,0.028702407467101915,0.027403597943686676,0.030000188888136093,0.029927229543105355,0.029878270954938942,0.02401146779709404,0.040518746823812485,0.025604045697544788,0.0336559982535766,0.024554681641946133,0.023962082014911283,0.023176389294020293],\"yaxis\":\"y\",\"type\":\"scatter\"},{\"hovertemplate\":\"variable=auc<br>index=%{x}<br>value=%{y}<extra></extra>\",\"legendgroup\":\"auc\",\"line\":{\"color\":\"#FFA15A\",\"dash\":\"solid\"},\"marker\":{\"symbol\":\"circle\"},\"mode\":\"lines\",\"name\":\"auc\",\"orientation\":\"v\",\"showlegend\":true,\"x\":[0,1,2,3,4,5,6,7,8,9,10,11,12,13,14,15,16,17,18,19,20,21,22,23,24,25,26,27,28,29],\"xaxis\":\"x\",\"y\":[1.0,1.0,0.9266666666666667,0.9743589743589745,1.0,1.0,0.9871794871794871,0.9871794871794871,1.0,0.9930555555555555,1.0,0.9866666666666667,1.0,1.0,1.0,1.0,1.0,0.9930555555555555,0.9933333333333333,1.0,0.9933333333333333,0.9841269841269842,1.0,0.9807692307692306,1.0,0.9935897435897436,1.0,0.9933333333333333,1.0,0.9807692307692306],\"yaxis\":\"y\",\"type\":\"scatter\"}],                        {\"template\":{\"data\":{\"bar\":[{\"error_x\":{\"color\":\"#2a3f5f\"},\"error_y\":{\"color\":\"#2a3f5f\"},\"marker\":{\"line\":{\"color\":\"#E5ECF6\",\"width\":0.5},\"pattern\":{\"fillmode\":\"overlay\",\"size\":10,\"solidity\":0.2}},\"type\":\"bar\"}],\"barpolar\":[{\"marker\":{\"line\":{\"color\":\"#E5ECF6\",\"width\":0.5},\"pattern\":{\"fillmode\":\"overlay\",\"size\":10,\"solidity\":0.2}},\"type\":\"barpolar\"}],\"carpet\":[{\"aaxis\":{\"endlinecolor\":\"#2a3f5f\",\"gridcolor\":\"white\",\"linecolor\":\"white\",\"minorgridcolor\":\"white\",\"startlinecolor\":\"#2a3f5f\"},\"baxis\":{\"endlinecolor\":\"#2a3f5f\",\"gridcolor\":\"white\",\"linecolor\":\"white\",\"minorgridcolor\":\"white\",\"startlinecolor\":\"#2a3f5f\"},\"type\":\"carpet\"}],\"choropleth\":[{\"colorbar\":{\"outlinewidth\":0,\"ticks\":\"\"},\"type\":\"choropleth\"}],\"contour\":[{\"colorbar\":{\"outlinewidth\":0,\"ticks\":\"\"},\"colorscale\":[[0.0,\"#0d0887\"],[0.1111111111111111,\"#46039f\"],[0.2222222222222222,\"#7201a8\"],[0.3333333333333333,\"#9c179e\"],[0.4444444444444444,\"#bd3786\"],[0.5555555555555556,\"#d8576b\"],[0.6666666666666666,\"#ed7953\"],[0.7777777777777778,\"#fb9f3a\"],[0.8888888888888888,\"#fdca26\"],[1.0,\"#f0f921\"]],\"type\":\"contour\"}],\"contourcarpet\":[{\"colorbar\":{\"outlinewidth\":0,\"ticks\":\"\"},\"type\":\"contourcarpet\"}],\"heatmap\":[{\"colorbar\":{\"outlinewidth\":0,\"ticks\":\"\"},\"colorscale\":[[0.0,\"#0d0887\"],[0.1111111111111111,\"#46039f\"],[0.2222222222222222,\"#7201a8\"],[0.3333333333333333,\"#9c179e\"],[0.4444444444444444,\"#bd3786\"],[0.5555555555555556,\"#d8576b\"],[0.6666666666666666,\"#ed7953\"],[0.7777777777777778,\"#fb9f3a\"],[0.8888888888888888,\"#fdca26\"],[1.0,\"#f0f921\"]],\"type\":\"heatmap\"}],\"heatmapgl\":[{\"colorbar\":{\"outlinewidth\":0,\"ticks\":\"\"},\"colorscale\":[[0.0,\"#0d0887\"],[0.1111111111111111,\"#46039f\"],[0.2222222222222222,\"#7201a8\"],[0.3333333333333333,\"#9c179e\"],[0.4444444444444444,\"#bd3786\"],[0.5555555555555556,\"#d8576b\"],[0.6666666666666666,\"#ed7953\"],[0.7777777777777778,\"#fb9f3a\"],[0.8888888888888888,\"#fdca26\"],[1.0,\"#f0f921\"]],\"type\":\"heatmapgl\"}],\"histogram\":[{\"marker\":{\"pattern\":{\"fillmode\":\"overlay\",\"size\":10,\"solidity\":0.2}},\"type\":\"histogram\"}],\"histogram2d\":[{\"colorbar\":{\"outlinewidth\":0,\"ticks\":\"\"},\"colorscale\":[[0.0,\"#0d0887\"],[0.1111111111111111,\"#46039f\"],[0.2222222222222222,\"#7201a8\"],[0.3333333333333333,\"#9c179e\"],[0.4444444444444444,\"#bd3786\"],[0.5555555555555556,\"#d8576b\"],[0.6666666666666666,\"#ed7953\"],[0.7777777777777778,\"#fb9f3a\"],[0.8888888888888888,\"#fdca26\"],[1.0,\"#f0f921\"]],\"type\":\"histogram2d\"}],\"histogram2dcontour\":[{\"colorbar\":{\"outlinewidth\":0,\"ticks\":\"\"},\"colorscale\":[[0.0,\"#0d0887\"],[0.1111111111111111,\"#46039f\"],[0.2222222222222222,\"#7201a8\"],[0.3333333333333333,\"#9c179e\"],[0.4444444444444444,\"#bd3786\"],[0.5555555555555556,\"#d8576b\"],[0.6666666666666666,\"#ed7953\"],[0.7777777777777778,\"#fb9f3a\"],[0.8888888888888888,\"#fdca26\"],[1.0,\"#f0f921\"]],\"type\":\"histogram2dcontour\"}],\"mesh3d\":[{\"colorbar\":{\"outlinewidth\":0,\"ticks\":\"\"},\"type\":\"mesh3d\"}],\"parcoords\":[{\"line\":{\"colorbar\":{\"outlinewidth\":0,\"ticks\":\"\"}},\"type\":\"parcoords\"}],\"pie\":[{\"automargin\":true,\"type\":\"pie\"}],\"scatter\":[{\"marker\":{\"colorbar\":{\"outlinewidth\":0,\"ticks\":\"\"}},\"type\":\"scatter\"}],\"scatter3d\":[{\"line\":{\"colorbar\":{\"outlinewidth\":0,\"ticks\":\"\"}},\"marker\":{\"colorbar\":{\"outlinewidth\":0,\"ticks\":\"\"}},\"type\":\"scatter3d\"}],\"scattercarpet\":[{\"marker\":{\"colorbar\":{\"outlinewidth\":0,\"ticks\":\"\"}},\"type\":\"scattercarpet\"}],\"scattergeo\":[{\"marker\":{\"colorbar\":{\"outlinewidth\":0,\"ticks\":\"\"}},\"type\":\"scattergeo\"}],\"scattergl\":[{\"marker\":{\"colorbar\":{\"outlinewidth\":0,\"ticks\":\"\"}},\"type\":\"scattergl\"}],\"scattermapbox\":[{\"marker\":{\"colorbar\":{\"outlinewidth\":0,\"ticks\":\"\"}},\"type\":\"scattermapbox\"}],\"scatterpolar\":[{\"marker\":{\"colorbar\":{\"outlinewidth\":0,\"ticks\":\"\"}},\"type\":\"scatterpolar\"}],\"scatterpolargl\":[{\"marker\":{\"colorbar\":{\"outlinewidth\":0,\"ticks\":\"\"}},\"type\":\"scatterpolargl\"}],\"scatterternary\":[{\"marker\":{\"colorbar\":{\"outlinewidth\":0,\"ticks\":\"\"}},\"type\":\"scatterternary\"}],\"surface\":[{\"colorbar\":{\"outlinewidth\":0,\"ticks\":\"\"},\"colorscale\":[[0.0,\"#0d0887\"],[0.1111111111111111,\"#46039f\"],[0.2222222222222222,\"#7201a8\"],[0.3333333333333333,\"#9c179e\"],[0.4444444444444444,\"#bd3786\"],[0.5555555555555556,\"#d8576b\"],[0.6666666666666666,\"#ed7953\"],[0.7777777777777778,\"#fb9f3a\"],[0.8888888888888888,\"#fdca26\"],[1.0,\"#f0f921\"]],\"type\":\"surface\"}],\"table\":[{\"cells\":{\"fill\":{\"color\":\"#EBF0F8\"},\"line\":{\"color\":\"white\"}},\"header\":{\"fill\":{\"color\":\"#C8D4E3\"},\"line\":{\"color\":\"white\"}},\"type\":\"table\"}]},\"layout\":{\"annotationdefaults\":{\"arrowcolor\":\"#2a3f5f\",\"arrowhead\":0,\"arrowwidth\":1},\"autotypenumbers\":\"strict\",\"coloraxis\":{\"colorbar\":{\"outlinewidth\":0,\"ticks\":\"\"}},\"colorscale\":{\"diverging\":[[0,\"#8e0152\"],[0.1,\"#c51b7d\"],[0.2,\"#de77ae\"],[0.3,\"#f1b6da\"],[0.4,\"#fde0ef\"],[0.5,\"#f7f7f7\"],[0.6,\"#e6f5d0\"],[0.7,\"#b8e186\"],[0.8,\"#7fbc41\"],[0.9,\"#4d9221\"],[1,\"#276419\"]],\"sequential\":[[0.0,\"#0d0887\"],[0.1111111111111111,\"#46039f\"],[0.2222222222222222,\"#7201a8\"],[0.3333333333333333,\"#9c179e\"],[0.4444444444444444,\"#bd3786\"],[0.5555555555555556,\"#d8576b\"],[0.6666666666666666,\"#ed7953\"],[0.7777777777777778,\"#fb9f3a\"],[0.8888888888888888,\"#fdca26\"],[1.0,\"#f0f921\"]],\"sequentialminus\":[[0.0,\"#0d0887\"],[0.1111111111111111,\"#46039f\"],[0.2222222222222222,\"#7201a8\"],[0.3333333333333333,\"#9c179e\"],[0.4444444444444444,\"#bd3786\"],[0.5555555555555556,\"#d8576b\"],[0.6666666666666666,\"#ed7953\"],[0.7777777777777778,\"#fb9f3a\"],[0.8888888888888888,\"#fdca26\"],[1.0,\"#f0f921\"]]},\"colorway\":[\"#636efa\",\"#EF553B\",\"#00cc96\",\"#ab63fa\",\"#FFA15A\",\"#19d3f3\",\"#FF6692\",\"#B6E880\",\"#FF97FF\",\"#FECB52\"],\"font\":{\"color\":\"#2a3f5f\"},\"geo\":{\"bgcolor\":\"white\",\"lakecolor\":\"white\",\"landcolor\":\"#E5ECF6\",\"showlakes\":true,\"showland\":true,\"subunitcolor\":\"white\"},\"hoverlabel\":{\"align\":\"left\"},\"hovermode\":\"closest\",\"mapbox\":{\"style\":\"light\"},\"paper_bgcolor\":\"white\",\"plot_bgcolor\":\"#E5ECF6\",\"polar\":{\"angularaxis\":{\"gridcolor\":\"white\",\"linecolor\":\"white\",\"ticks\":\"\"},\"bgcolor\":\"#E5ECF6\",\"radialaxis\":{\"gridcolor\":\"white\",\"linecolor\":\"white\",\"ticks\":\"\"}},\"scene\":{\"xaxis\":{\"backgroundcolor\":\"#E5ECF6\",\"gridcolor\":\"white\",\"gridwidth\":2,\"linecolor\":\"white\",\"showbackground\":true,\"ticks\":\"\",\"zerolinecolor\":\"white\"},\"yaxis\":{\"backgroundcolor\":\"#E5ECF6\",\"gridcolor\":\"white\",\"gridwidth\":2,\"linecolor\":\"white\",\"showbackground\":true,\"ticks\":\"\",\"zerolinecolor\":\"white\"},\"zaxis\":{\"backgroundcolor\":\"#E5ECF6\",\"gridcolor\":\"white\",\"gridwidth\":2,\"linecolor\":\"white\",\"showbackground\":true,\"ticks\":\"\",\"zerolinecolor\":\"white\"}},\"shapedefaults\":{\"line\":{\"color\":\"#2a3f5f\"}},\"ternary\":{\"aaxis\":{\"gridcolor\":\"white\",\"linecolor\":\"white\",\"ticks\":\"\"},\"baxis\":{\"gridcolor\":\"white\",\"linecolor\":\"white\",\"ticks\":\"\"},\"bgcolor\":\"#E5ECF6\",\"caxis\":{\"gridcolor\":\"white\",\"linecolor\":\"white\",\"ticks\":\"\"}},\"title\":{\"x\":0.05},\"xaxis\":{\"automargin\":true,\"gridcolor\":\"white\",\"linecolor\":\"white\",\"ticks\":\"\",\"title\":{\"standoff\":15},\"zerolinecolor\":\"white\",\"zerolinewidth\":2},\"yaxis\":{\"automargin\":true,\"gridcolor\":\"white\",\"linecolor\":\"white\",\"ticks\":\"\",\"title\":{\"standoff\":15},\"zerolinecolor\":\"white\",\"zerolinewidth\":2}}},\"xaxis\":{\"anchor\":\"y\",\"domain\":[0.0,1.0],\"title\":{\"text\":\"index\"}},\"yaxis\":{\"anchor\":\"x\",\"domain\":[0.0,1.0],\"title\":{\"text\":\"value\"}},\"legend\":{\"title\":{\"text\":\"variable\"},\"tracegroupgap\":0},\"margin\":{\"t\":60}},                        {\"responsive\": true}                    ).then(function(){\n",
              "                            \n",
              "var gd = document.getElementById('896c8de6-c085-4066-88d5-69bd62900518');\n",
              "var x = new MutationObserver(function (mutations, observer) {{\n",
              "        var display = window.getComputedStyle(gd).display;\n",
              "        if (!display || display === 'none') {{\n",
              "            console.log([gd, 'removed!']);\n",
              "            Plotly.purge(gd);\n",
              "            observer.disconnect();\n",
              "        }}\n",
              "}});\n",
              "\n",
              "// Listen for the removal of the full notebook cells\n",
              "var notebookContainer = gd.closest('#notebook-container');\n",
              "if (notebookContainer) {{\n",
              "    x.observe(notebookContainer, {childList: true});\n",
              "}}\n",
              "\n",
              "// Listen for the clearing of the current output cell\n",
              "var outputEl = gd.closest('.output');\n",
              "if (outputEl) {{\n",
              "    x.observe(outputEl, {childList: true});\n",
              "}}\n",
              "\n",
              "                        })                };                            </script>        </div>\n",
              "</body>\n",
              "</html>"
            ]
          },
          "metadata": {}
        }
      ],
      "source": [
        "px.line(pd.DataFrame(history[\"test\"]))"
      ]
    },
    {
      "cell_type": "code",
      "execution_count": 15,
      "metadata": {
        "id": "jGL0eVwSVkUU"
      },
      "outputs": [],
      "source": [
        "torch.save(model.state_dict(), f\"drive/MyDrive/model{int(time())}.pt\")"
      ]
    },
    {
      "cell_type": "code",
      "source": [],
      "metadata": {
        "id": "P-XFbp3vooOc"
      },
      "execution_count": 15,
      "outputs": []
    },
    {
      "cell_type": "code",
      "source": [
        "from sklearn.metrics import roc_curve, auc\n",
        "import matplotlib.pyplot as plt\n",
        "yt = list()\n",
        "yp = list()\n",
        "with torch.no_grad():\n",
        "    for x, y in dataloaders[2]:\n",
        "        yt.append(y)\n",
        "        yp.append(model(x.to(device=DEVICE, dtype=torch.float)).cpu())\n",
        "\n",
        "yt = torch.cat(yt).squeeze()\n",
        "yp = torch.cat(yp).squeeze()\n",
        "\n",
        "fpr, tpr, _ = roc_curve(yt, yp)\n",
        "roc_auc = auc(fpr, tpr)\n",
        "\n",
        "plt.figure()\n",
        "plt.plot(\n",
        "    fpr,\n",
        "    tpr,\n",
        "    color=\"darkorange\",\n",
        "    lw=2,\n",
        "    label=\"ROC curve (area = %0.2f)\" % roc_auc,\n",
        ")\n",
        "plt.plot([0, 1], [0, 1], color=\"navy\", lw=2, linestyle=\"--\")\n",
        "plt.xlim([0.0, 1.0])\n",
        "plt.ylim([0.0, 1.05])\n",
        "plt.xlabel(\"False Positive Rate\")\n",
        "plt.ylabel(\"True Positive Rate\")\n",
        "plt.title(\"Receiver operating characteristic example\")\n",
        "plt.legend(loc=\"lower right\")\n",
        "plt.savefig(\"drive/MyDrive/roc_test.png\", dpi=300)\n",
        "plt.show()\n"
      ],
      "metadata": {
        "colab": {
          "base_uri": "https://localhost:8080/",
          "height": 295
        },
        "id": "ZMwqcx5M71l1",
        "outputId": "a4a8148d-db82-4b5b-e928-e5948ea491b9"
      },
      "execution_count": 26,
      "outputs": [
        {
          "output_type": "display_data",
          "data": {
            "text/plain": [
              "<Figure size 432x288 with 1 Axes>"
            ],
            "image/png": "[encoded data removed]"
          },
          "metadata": {
            "needs_background": "light"
          }
        }
      ]
    },
    {
      "cell_type": "code",
      "source": [
        "yp"
      ],
      "metadata": {
        "colab": {
          "base_uri": "https://localhost:8080/"
        },
        "id": "BJnADtZqBXWn",
        "outputId": "6ceee7eb-81dd-4f18-b6db-909b20eb8ccb"
      },
      "execution_count": 23,
      "outputs": [
        {
          "output_type": "execute_result",
          "data": {
            "text/plain": [
              "tensor([2.1759e-13, 8.9220e-13, 9.9995e-01,  ..., 2.2170e-05, 9.9991e-01,\n",
              "        1.0000e+00])"
            ]
          },
          "metadata": {},
          "execution_count": 23
        }
      ]
    },
    {
      "cell_type": "code",
      "source": [],
      "metadata": {
        "id": "CLwzzeIhCsrc"
      },
      "execution_count": null,
      "outputs": []
    }
  ],
  "metadata": {
    "kernelspec": {
      "display_name": "Python 3.10.6 64-bit",
      "language": "python",
      "name": "python3"
    },
    "language_info": {
      "codemirror_mode": {
        "name": "ipython",
        "version": 3
      },
      "file_extension": ".py",
      "mimetype": "text/x-python",
      "name": "python",
      "nbconvert_exporter": "python",
      "pygments_lexer": "ipython3",
      "version": "3.10.6"
    },
    "orig_nbformat": 4,
    "vscode": {
      "interpreter": {
        "hash": "b0fa6594d8f4cbf19f97940f81e996739fb7646882a419484c72d19e05852a7e"
      }
    },
    "colab": {
      "provenance": []
    },
    "accelerator": "GPU",
    "gpuClass": "standard"
  },
  "nbformat": 4,
  "nbformat_minor": 0
}